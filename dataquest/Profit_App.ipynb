{
 "cells": [
  {
   "cell_type": "markdown",
   "id": "29132c34-7dee-4858-8042-ffea0292b680",
   "metadata": {},
   "source": [
    "### Mobile App Statistics (Google Play and the App Store)\n",
    "\n",
    "Our goal in this project is to find type of mobiles apps are liklely to attract more users. We only have apps that are free to download and instal, our main scourse of revenue consists of in-app ads.\n",
    "\n",
    "#### Overview\n",
    "As of September 2018, there were approximately 2 million iOS apps and 2.1 million Android apps on Google Play\n",
    "\n",
    "#### Questions\n",
    "Information to hepl developers understand what type of apps are likely to attract more users"
   ]
  },
  {
   "cell_type": "markdown",
   "id": "148af1ac-0df6-47f8-b04c-6f8895a8e146",
   "metadata": {},
   "source": [
    "##### Metadata\n",
    "\n",
    "|Column name | Description|\n",
    "| ---- | ----- |\n",
    "|| **android**  |\n",
    "|'App'| App Name |\n",
    "|'Category'|  |\n",
    "|'Rating'|  |\n",
    "|'Reviews'|  |\n",
    "|'Size'| Size in Mbites |\n",
    "|'Installs'|  |\n",
    "|'Type'|  |\n",
    "|'Price'|  |\n",
    "|'Content Rating'|  |\n",
    "|'Genres'|  |\n",
    "|'Last Updated'| Info about update |\n",
    "|'Current Ver'| |\n",
    "|'Android Ver'| Version system  |\n",
    "|| **IOS** |\n",
    "|'id' | App ID |\n",
    "|'track_name'|App Name|\n",
    "|'size_bytes' |Size (in Bytes)|\n",
    "|'currency' |Currency Type|\n",
    "|'price' |Price amount\n",
    "|'rating_count_tot' |User Rating counts (for all version)\n",
    "|'rating_count_ver' |User Rating counts (for current version)|\n",
    "|'user_rating' |Average User Rating value (for all version)|\n",
    "|'user_rating_ver' |Average User Rating value (for current version)|\n",
    "|'ver' |Latest version code |\n",
    "|'cont_rating' |Content Rating |\n",
    "|'prime_genre' |Primary Genre |\n",
    "|'sup_devices.num' |Number of supporting devices |\n",
    "|'ipadSc_urls.num' |Number of screenshots showed for display|\n",
    "|'lang.num' | Number of supported languages |\n",
    "|'vpp_lic' | Vpp Device Based Licensing Enabled|"
   ]
  },
  {
   "cell_type": "code",
   "execution_count": 94,
   "id": "9517cad4-f206-4339-9259-121ad501eb9d",
   "metadata": {},
   "outputs": [],
   "source": [
    "#step1 open files\n",
    "from csv import reader\n",
    "\n",
    "#for App Store dataset\n",
    "open_file = open('datasets/AppleStore.csv')\n",
    "read_file = reader(open_file)\n",
    "ios = list(read_file)\n",
    "ios_header = ios[0]\n",
    "ios = ios[1:]\n",
    "\n",
    "#for Google Play dataset\n",
    "open_file = open('datasets/googleplaystore.csv')\n",
    "read_file = reader(open_file)\n",
    "android = list(read_file)\n",
    "android_header = android[0]\n",
    "android = android[1:]"
   ]
  },
  {
   "cell_type": "code",
   "execution_count": 95,
   "id": "79541fd7-c267-4139-9ee8-3bba9f35923d",
   "metadata": {},
   "outputs": [],
   "source": [
    "#step2 for easier to explore datasets\n",
    "\n",
    "def explore_data(dataset, start, end, row_and_columns = False):\n",
    "    dataset_slice = dataset[start:end]\n",
    "    for row in dataset_slice:\n",
    "        print(row)\n",
    "        print('\\n') # adds a empty line after each row\n",
    "        \n",
    "    if row_and_columns:\n",
    "        print('Number of rows:', len(dataset))\n",
    "        print('Number of columns', len(dataset[0]))"
   ]
  },
  {
   "cell_type": "code",
   "execution_count": 96,
   "id": "98ffffcf-cf2d-4f9f-84bb-96339327d0f9",
   "metadata": {},
   "outputs": [
    {
     "name": "stdout",
     "output_type": "stream",
     "text": [
      "['App', 'Category', 'Rating', 'Reviews', 'Size', 'Installs', 'Type', 'Price', 'Content Rating', 'Genres', 'Last Updated', 'Current Ver', 'Android Ver']\n",
      "\n",
      "\n",
      "['Photo Editor & Candy Camera & Grid & ScrapBook', 'ART_AND_DESIGN', '4.1', '159', '19M', '10,000+', 'Free', '0', 'Everyone', 'Art & Design', 'January 7, 2018', '1.0.0', '4.0.3 and up']\n",
      "\n",
      "\n",
      "['Coloring book moana', 'ART_AND_DESIGN', '3.9', '967', '14M', '500,000+', 'Free', '0', 'Everyone', 'Art & Design;Pretend Play', 'January 15, 2018', '2.0.0', '4.0.3 and up']\n",
      "\n",
      "\n",
      "Number of rows: 10841\n",
      "Number of columns 13\n"
     ]
    }
   ],
   "source": [
    "print(android_header)\n",
    "print('\\n')\n",
    "explore_data(android, 0, 2, True )"
   ]
  },
  {
   "cell_type": "code",
   "execution_count": 97,
   "id": "5c8c115c-159e-4d20-b769-772fcaed347e",
   "metadata": {},
   "outputs": [
    {
     "name": "stdout",
     "output_type": "stream",
     "text": [
      "['id', 'track_name', 'size_bytes', 'currency', 'price', 'rating_count_tot', 'rating_count_ver', 'user_rating', 'user_rating_ver', 'ver', 'cont_rating', 'prime_genre', 'sup_devices.num', 'ipadSc_urls.num', 'lang.num', 'vpp_lic']\n",
      "\n",
      "\n",
      "['284882215', 'Facebook', '389879808', 'USD', '0.0', '2974676', '212', '3.5', '3.5', '95.0', '4+', 'Social Networking', '37', '1', '29', '1']\n",
      "\n",
      "\n",
      "['389801252', 'Instagram', '113954816', 'USD', '0.0', '2161558', '1289', '4.5', '4.0', '10.23', '12+', 'Photo & Video', '37', '0', '29', '1']\n",
      "\n",
      "\n",
      "Number of rows: 7197\n",
      "Number of columns 16\n"
     ]
    }
   ],
   "source": [
    "print(ios_header)\n",
    "print('\\n')\n",
    "explore_data(ios, 0, 2, True)"
   ]
  },
  {
   "cell_type": "markdown",
   "id": "c7d65d63-8c36-4cd3-8af5-0c7f1fbb43f5",
   "metadata": {},
   "source": [
    "#### Data Cleaning\n",
    "\n",
    "**Detect inaccurate**\n",
    "\n",
    "The Google Play data set has incorrect data, an error for row 10472. We may remove the row, because the row in column 'Category' we can see wrong data '19'.\n"
   ]
  },
  {
   "cell_type": "code",
   "execution_count": 98,
   "id": "e283a451-d66c-4a98-a2c5-98ca08e9eb46",
   "metadata": {},
   "outputs": [
    {
     "name": "stdout",
     "output_type": "stream",
     "text": [
      "['Life Made WI-Fi Touchscreen Photo Frame', '1.9', '19', '3.0M', '1,000+', 'Free', '0', 'Everyone', '', 'February 11, 2018', '1.0.19', '4.0 and up']\n",
      "\n",
      "\n",
      "Index postion in: 10472\n",
      "12\n"
     ]
    }
   ],
   "source": [
    "#step3\n",
    "#detect inaccurate(correcting or removing it) \n",
    "#and duplicate(remove the duplicates) and modifying the data\n",
    "\n",
    "#check missing data\n",
    "for row in android:\n",
    "    if len(row) != len(android_header):\n",
    "        print(row)\n",
    "        print('\\n')\n",
    "        print('Index postion in:', android.index(row))\n",
    "        print(len(row))\n"
   ]
  },
  {
   "cell_type": "code",
   "execution_count": 99,
   "id": "923256c6-db54-4ba8-9eb6-033f9da21371",
   "metadata": {},
   "outputs": [],
   "source": [
    "for row in ios:\n",
    "    if len(row) != len(ios_header):\n",
    "        print(row)\n",
    "        print('\\n')\n",
    "        print('Index postion in:', ios.index(row))\n",
    "        print(len(row))"
   ]
  },
  {
   "cell_type": "code",
   "execution_count": 100,
   "id": "7f6e3d6a-c101-47be-b9ca-d317bfe54209",
   "metadata": {},
   "outputs": [
    {
     "name": "stdout",
     "output_type": "stream",
     "text": [
      "['Life Made WI-Fi Touchscreen Photo Frame', '1.9', '19', '3.0M', '1,000+', 'Free', '0', 'Everyone', '', 'February 11, 2018', '1.0.19', '4.0 and up']\n",
      "\n",
      "\n",
      "['Coloring book moana', 'ART_AND_DESIGN', '3.9', '967', '14M', '500,000+', 'Free', '0', 'Everyone', 'Art & Design;Pretend Play', 'January 15, 2018', '2.0.0', '4.0.3 and up']\n",
      "\n",
      "\n",
      "['App', 'Category', 'Rating', 'Reviews', 'Size', 'Installs', 'Type', 'Price', 'Content Rating', 'Genres', 'Last Updated', 'Current Ver', 'Android Ver']\n"
     ]
    }
   ],
   "source": [
    "print(android[10472])\n",
    "print('\\n')\n",
    "print(android[1])\n",
    "print('\\n')\n",
    "print(android_header)"
   ]
  },
  {
   "cell_type": "code",
   "execution_count": 101,
   "id": "c74e1a27-eb34-4472-9e82-0550433d1f99",
   "metadata": {},
   "outputs": [
    {
     "name": "stdout",
     "output_type": "stream",
     "text": [
      "10841\n",
      "10840\n"
     ]
    }
   ],
   "source": [
    "print(len(android))\n",
    "del android[10472]\n",
    "print(len(android))"
   ]
  },
  {
   "cell_type": "markdown",
   "id": "ea704b88-543e-4ac9-ad01-47f318fdba2d",
   "metadata": {},
   "source": [
    "**Detect duplicate**\n",
    "\n",
    "Create function for every dataset. There are 1181 cases in Google Play data."
   ]
  },
  {
   "cell_type": "code",
   "execution_count": 121,
   "id": "3ba6ba94-b853-4c41-b377-229b7178ae24",
   "metadata": {},
   "outputs": [
    {
     "name": "stdout",
     "output_type": "stream",
     "text": [
      "Number of duplicate apps: 1181\n",
      "Number of unique apps: 9659\n",
      "\n",
      "\n",
      "Exmaples of duplicate apps ['Quick PDF Scanner + OCR FREE', 'Box', 'Google My Business', 'ZOOM Cloud Meetings', 'join.me - Simple Meetings', 'Box', 'Zenefits', 'Google Ads', 'Google My Business', 'Slack']\n"
     ]
    }
   ],
   "source": [
    "duplicate_apps = [] #list\n",
    "unique_apps = []\n",
    "\n",
    "for app in android:\n",
    "        name = app[0]\n",
    "        if name in unique_apps:\n",
    "            duplicate_apps.append(name)\n",
    "        else:\n",
    "            unique_apps.append(name)\n",
    "\n",
    "print('Number of duplicate apps:', len(duplicate_apps))\n",
    "print('Number of unique apps:', len(unique_apps))\n",
    "print('\\n')\n",
    "print('Exmaples of duplicate apps', duplicate_apps[:10])"
   ]
  },
  {
   "cell_type": "code",
   "execution_count": 131,
   "id": "1f1116e6-c74c-4de9-93f4-c49fa0201c1a",
   "metadata": {},
   "outputs": [
    {
     "name": "stdout",
     "output_type": "stream",
     "text": [
      "['Instagram', 'SOCIAL', '4.5', '66577313', 'Varies with device', '1,000,000,000+', 'Free', '0', 'Teen', 'Social', 'July 31, 2018', 'Varies with device', 'Varies with device']\n",
      "['Instagram', 'SOCIAL', '4.5', '66577446', 'Varies with device', '1,000,000,000+', 'Free', '0', 'Teen', 'Social', 'July 31, 2018', 'Varies with device', 'Varies with device']\n",
      "['Instagram', 'SOCIAL', '4.5', '66577313', 'Varies with device', '1,000,000,000+', 'Free', '0', 'Teen', 'Social', 'July 31, 2018', 'Varies with device', 'Varies with device']\n",
      "['Instagram', 'SOCIAL', '4.5', '66509917', 'Varies with device', '1,000,000,000+', 'Free', '0', 'Teen', 'Social', 'July 31, 2018', 'Varies with device', 'Varies with device']\n"
     ]
    }
   ],
   "source": [
    "for app in android:\n",
    "    name = app[0]\n",
    "    if name == 'Instagram':\n",
    "        print(app)\n",
    "        "
   ]
  },
  {
   "cell_type": "code",
   "execution_count": null,
   "id": "4bf297d6-38b6-409b-9719-2a0983cb8a01",
   "metadata": {},
   "outputs": [],
   "source": []
  }
 ],
 "metadata": {
  "kernelspec": {
   "display_name": "Python 3",
   "language": "python",
   "name": "python3"
  },
  "language_info": {
   "codemirror_mode": {
    "name": "ipython",
    "version": 3
   },
   "file_extension": ".py",
   "mimetype": "text/x-python",
   "name": "python",
   "nbconvert_exporter": "python",
   "pygments_lexer": "ipython3",
   "version": "3.8.10"
  }
 },
 "nbformat": 4,
 "nbformat_minor": 5
}
