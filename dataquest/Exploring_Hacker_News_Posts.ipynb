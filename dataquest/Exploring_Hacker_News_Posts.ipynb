{
 "cells": [
  {
   "cell_type": "markdown",
   "id": "8dc18c3a-64c8-4e08-934c-b8f0a6986ebc",
   "metadata": {},
   "source": [
    "In this project, we'll work with a dataset of submissions to popular technology site HAcker News. Hacker News is extremely popular in technology and startup circles, and posts that make it to the top of the Hacker News listings can get hundreds of thousands of visitors as a result.\n",
    "\n",
    "This data set is Hacker News posts from the last 12 months (up to September 26 2016).\n",
    "\n",
    "It includes the following columns:\n",
    "\n",
    "* id: the unique indentifier from HN for the post\n",
    "* title: title of the post (self explanatory)\n",
    "* url: the url of the item being linked to\n",
    "* num_points: the number of upvotes the post received\n",
    "* num_comments: the number of comments the post received\n",
    "* author: the name of the account that made the post\n",
    "* created_at: the date and time the post was made (the time zone is Eastern Time in the US)\n",
    "\n",
    "\n",
    "Task:\n",
    "We'll compare two types of post to determine the following:\n",
    "- Do `Ask HN` or `Show HN` receive more comments on average?\n",
    "- Do posts created at a certain time more comments on average? \n",
    "\n"
   ]
  },
  {
   "cell_type": "code",
   "execution_count": 46,
   "id": "6b1d8653-8043-4399-8eb8-83f8bd7c5d7e",
   "metadata": {},
   "outputs": [
    {
     "data": {
      "text/plain": [
       "[['id', 'title', 'url', 'num_points', 'num_comments', 'author', 'created_at'],\n",
       " ['12579008',\n",
       "  'You have two days to comment if you want stem cells to be classified as your own',\n",
       "  'http://www.regulations.gov/document?D=FDA-2015-D-3719-0018',\n",
       "  '1',\n",
       "  '0',\n",
       "  'altstar',\n",
       "  '9/26/2016 3:26'],\n",
       " ['12579005',\n",
       "  'SQLAR  the SQLite Archiver',\n",
       "  'https://www.sqlite.org/sqlar/doc/trunk/README.md',\n",
       "  '1',\n",
       "  '0',\n",
       "  'blacksqr',\n",
       "  '9/26/2016 3:24'],\n",
       " ['12578997',\n",
       "  'What if we just printed a flatscreen television on the side of our boxes?',\n",
       "  'https://medium.com/vanmoof/our-secrets-out-f21c1f03fdc8#.ietxmez43',\n",
       "  '1',\n",
       "  '0',\n",
       "  'pavel_lishin',\n",
       "  '9/26/2016 3:19'],\n",
       " ['12578989',\n",
       "  'algorithmic music',\n",
       "  'http://cacm.acm.org/magazines/2011/7/109891-algorithmic-composition/fulltext',\n",
       "  '1',\n",
       "  '0',\n",
       "  'poindontcare',\n",
       "  '9/26/2016 3:16']]"
      ]
     },
     "execution_count": 46,
     "metadata": {},
     "output_type": "execute_result"
    }
   ],
   "source": [
    "#import pandas as pd\n",
    "#hn = pd.read_csv('datasets/HN_posts2016.csv')\n",
    "\n",
    "# Read in the data.\n",
    "import csv\n",
    "\n",
    "f = open('datasets/HN_posts2016.csv')\n",
    "hn = list(csv.reader(f))\n",
    "hn[:5]"
   ]
  },
  {
   "cell_type": "code",
   "execution_count": 47,
   "id": "484760e7-2a3f-45b3-88ab-8e9482022b77",
   "metadata": {},
   "outputs": [
    {
     "data": {
      "text/plain": [
       "[['12579008',\n",
       "  'You have two days to comment if you want stem cells to be classified as your own',\n",
       "  'http://www.regulations.gov/document?D=FDA-2015-D-3719-0018',\n",
       "  '1',\n",
       "  '0',\n",
       "  'altstar',\n",
       "  '9/26/2016 3:26'],\n",
       " ['12579005',\n",
       "  'SQLAR  the SQLite Archiver',\n",
       "  'https://www.sqlite.org/sqlar/doc/trunk/README.md',\n",
       "  '1',\n",
       "  '0',\n",
       "  'blacksqr',\n",
       "  '9/26/2016 3:24'],\n",
       " ['12578997',\n",
       "  'What if we just printed a flatscreen television on the side of our boxes?',\n",
       "  'https://medium.com/vanmoof/our-secrets-out-f21c1f03fdc8#.ietxmez43',\n",
       "  '1',\n",
       "  '0',\n",
       "  'pavel_lishin',\n",
       "  '9/26/2016 3:19'],\n",
       " ['12578989',\n",
       "  'algorithmic music',\n",
       "  'http://cacm.acm.org/magazines/2011/7/109891-algorithmic-composition/fulltext',\n",
       "  '1',\n",
       "  '0',\n",
       "  'poindontcare',\n",
       "  '9/26/2016 3:16'],\n",
       " ['12578979',\n",
       "  'How the Data Vault Enables the Next-Gen Data Warehouse and Data Lake',\n",
       "  'https://www.talend.com/blog/2016/05/12/talend-and-Â\\x93the-data-vaultÂ\\x94',\n",
       "  '1',\n",
       "  '0',\n",
       "  'markgainor1',\n",
       "  '9/26/2016 3:14']]"
      ]
     },
     "execution_count": 47,
     "metadata": {},
     "output_type": "execute_result"
    }
   ],
   "source": [
    "#remove headers !!only one time!!\n",
    "headers = [0]\n",
    "hn = hn[1:]\n",
    "#headers\n",
    "hn[:5]"
   ]
  },
  {
   "cell_type": "markdown",
   "id": "51fb955e-352f-4bac-bd98-bbee7c2dd1d9",
   "metadata": {},
   "source": [
    "First, we use metod to separete posts beginning with `Ask HN` and `Show HN` into two different lists. It makes easier to analyze in the following steps."
   ]
  },
  {
   "cell_type": "code",
   "execution_count": 48,
   "id": "31d10c97-cf80-4a87-9ed1-6a9411117ac3",
   "metadata": {},
   "outputs": [
    {
     "name": "stdout",
     "output_type": "stream",
     "text": [
      "9139\n",
      "10158\n",
      "273822\n"
     ]
    }
   ],
   "source": [
    "ask_posts = []\n",
    "show_posts = []\n",
    "other_posts = []\n",
    "\n",
    "for row in hn:\n",
    "    title = row[1]\n",
    "    if title.lower().startswith('ask hn'):\n",
    "        ask_posts.append(row)\n",
    "    elif title.lower().startswith('show hn'):\n",
    "        show_posts.append(row)\n",
    "    else:\n",
    "        other_posts.append(row)\n",
    "        \n",
    "print(len(ask_posts))\n",
    "print(len(show_posts))\n",
    "print(len(other_posts))"
   ]
  },
  {
   "cell_type": "markdown",
   "id": "6c4bbe14-8d83-4b09-bc74-b5c33d43017e",
   "metadata": {},
   "source": [
    "We'll calculate the average number of comments each type of post receives"
   ]
  },
  {
   "cell_type": "code",
   "execution_count": 49,
   "id": "c07772b1-f53c-4746-b2af-2476a7ddff2e",
   "metadata": {},
   "outputs": [
    {
     "data": {
      "text/plain": [
       "10.393478498741656"
      ]
     },
     "execution_count": 49,
     "metadata": {},
     "output_type": "execute_result"
    }
   ],
   "source": [
    "total_ask_comments = 0\n",
    "for post in ask_posts:\n",
    "    total_ask_comments += int(post[4])\n",
    "    \n",
    "avg_ask_comments = total_ask_comments/len(ask_posts)\n",
    "avg_ask_comments"
   ]
  },
  {
   "cell_type": "code",
   "execution_count": 50,
   "id": "06d7add7-17ee-4671-b19e-00be7a330fee",
   "metadata": {},
   "outputs": [
    {
     "data": {
      "text/plain": [
       "4.886099625910612"
      ]
     },
     "execution_count": 50,
     "metadata": {},
     "output_type": "execute_result"
    }
   ],
   "source": [
    "total_show_comments = 0\n",
    "for post in show_posts:\n",
    "    total_show_comments += int(post[4])\n",
    "    \n",
    "avg_show_comments = total_show_comments / len(show_posts)\n",
    "avg_show_comments"
   ]
  },
  {
   "cell_type": "markdown",
   "id": "173b075c-d0e7-4c48-be20-919023ee0656",
   "metadata": {},
   "source": [
    "Ask_posts in our sample receive aproximately 10 comments, more than show posts. Since ask posts are more likely to receive comments, we'll focus our remaining analysis just on these posts.\n",
    "We'll use the following steps to perform this analysis:\n",
    "1. Calculate the number of ask posts created in each hours of the day, along with the number of comments received\n",
    "2. Calculate the average number of comments ask posts receive by hour created"
   ]
  },
  {
   "cell_type": "code",
   "execution_count": 53,
   "id": "b45f2299-a4a8-4a96-9629-be040b545b6d",
   "metadata": {},
   "outputs": [
    {
     "data": {
      "text/plain": [
       "{'02': 2996,\n",
       " '01': 2089,\n",
       " '22': 3372,\n",
       " '21': 4500,\n",
       " '19': 3954,\n",
       " '17': 5547,\n",
       " '15': 18525,\n",
       " '14': 4972,\n",
       " '13': 7245,\n",
       " '11': 2797,\n",
       " '10': 3013,\n",
       " '09': 1477,\n",
       " '07': 1585,\n",
       " '03': 2154,\n",
       " '23': 2297,\n",
       " '20': 4462,\n",
       " '16': 4466,\n",
       " '08': 2362,\n",
       " '00': 2277,\n",
       " '18': 4877,\n",
       " '12': 4234,\n",
       " '04': 2360,\n",
       " '06': 1587,\n",
       " '05': 1838}"
      ]
     },
     "execution_count": 53,
     "metadata": {},
     "output_type": "execute_result"
    }
   ],
   "source": [
    "# Calculate the amount of ask posts created during each hour of day and the number of comments received.\n",
    "import datetime as dt\n",
    "\n",
    "result_list = []\n",
    "\n",
    "for post in ask_posts:\n",
    "    result_list.append([post[6], int(post[4])]\n",
    "                        )\n",
    "\n",
    "comments_by_hour = {}\n",
    "counts_by_hour = {}\n",
    "date_format = \"%m/%d/%Y %H:%M\"\n",
    "\n",
    "for post in result_list:\n",
    "    date = post[0]\n",
    "    comment = post[1]\n",
    "    time = dt.datetime.strptime(date, date_format).strftime(\"%H\") #exstract the hours\n",
    "    if time in counts_by_hour:\n",
    "        comments_by_hour[time] += comment\n",
    "        counts_by_hour[time] += 1\n",
    "    else:\n",
    "        comments_by_hour[time] = comment\n",
    "        counts_by_hour[time] = 1\n",
    "\n",
    "#contains the corresponding number of comments ask posts creates at each hour received\n",
    "comments_by_hour"
   ]
  },
  {
   "cell_type": "code",
   "execution_count": 61,
   "id": "a16b43ac-082c-43ce-8e85-21b832736ec8",
   "metadata": {},
   "outputs": [
    {
     "data": {
      "text/plain": [
       "{'02': 269,\n",
       " '01': 282,\n",
       " '22': 383,\n",
       " '21': 518,\n",
       " '19': 552,\n",
       " '17': 587,\n",
       " '15': 646,\n",
       " '14': 513,\n",
       " '13': 444,\n",
       " '11': 312,\n",
       " '10': 282,\n",
       " '09': 222,\n",
       " '07': 226,\n",
       " '03': 271,\n",
       " '23': 343,\n",
       " '20': 510,\n",
       " '16': 579,\n",
       " '08': 257,\n",
       " '00': 301,\n",
       " '18': 614,\n",
       " '12': 342,\n",
       " '04': 243,\n",
       " '06': 234,\n",
       " '05': 209}"
      ]
     },
     "execution_count": 61,
     "metadata": {},
     "output_type": "execute_result"
    }
   ],
   "source": [
    "#contains the number osf ask posts created during each hour of the day\n",
    "counts_by_hour"
   ]
  },
  {
   "cell_type": "markdown",
   "id": "c6b87a18-d3f3-4d3a-9084-900f9a95a599",
   "metadata": {},
   "source": [
    "Next, we'll use these two dictionaries to calculate the average number of comments for posts created during each hour of the day."
   ]
  },
  {
   "cell_type": "code",
   "execution_count": 63,
   "id": "7ab72c15-bacc-4ba5-b905-bac07acd5922",
   "metadata": {},
   "outputs": [
    {
     "data": {
      "text/plain": [
       "[['02', 11.137546468401487],\n",
       " ['01', 7.407801418439717],\n",
       " ['22', 8.804177545691905],\n",
       " ['21', 8.687258687258687],\n",
       " ['19', 7.163043478260869],\n",
       " ['17', 9.449744463373083],\n",
       " ['15', 28.676470588235293],\n",
       " ['14', 9.692007797270955],\n",
       " ['13', 16.31756756756757],\n",
       " ['11', 8.96474358974359],\n",
       " ['10', 10.684397163120567],\n",
       " ['09', 6.653153153153153],\n",
       " ['07', 7.013274336283186],\n",
       " ['03', 7.948339483394834],\n",
       " ['23', 6.696793002915452],\n",
       " ['20', 8.749019607843136],\n",
       " ['16', 7.713298791018998],\n",
       " ['08', 9.190661478599221],\n",
       " ['00', 7.5647840531561465],\n",
       " ['18', 7.94299674267101],\n",
       " ['12', 12.380116959064328],\n",
       " ['04', 9.7119341563786],\n",
       " ['06', 6.782051282051282],\n",
       " ['05', 8.794258373205741]]"
      ]
     },
     "execution_count": 63,
     "metadata": {},
     "output_type": "execute_result"
    }
   ],
   "source": [
    "# Calculate the average amount of comments `Ask HN` posts created at each hour of the day receive.\n",
    "avg_by_hour = [] #list\n",
    "\n",
    "for each_h in comments_by_hour:\n",
    "    avg_by_hour.append([each_h, comments_by_hour[each_h] / counts_by_hour[each_h]])\n",
    "\n",
    "avg_by_hour"
   ]
  },
  {
   "cell_type": "markdown",
   "id": "8a68909d-b84d-4c5f-8f94-d7c585a7657d",
   "metadata": {},
   "source": [
    "Although we now have the results we need, this format makes it difficult to identify the hours with the highest values. Let's finish by sorting the list of lists and printing the five highest values in a format that's easier to read"
   ]
  },
  {
   "cell_type": "code",
   "execution_count": 64,
   "id": "70564400-6b33-49ee-96cb-0d7c59fe70cb",
   "metadata": {},
   "outputs": [
    {
     "data": {
      "text/plain": [
       "[[28.676470588235293, '15'],\n",
       " [16.31756756756757, '13'],\n",
       " [12.380116959064328, '12'],\n",
       " [11.137546468401487, '02'],\n",
       " [10.684397163120567, '10'],\n",
       " [9.7119341563786, '04'],\n",
       " [9.692007797270955, '14'],\n",
       " [9.449744463373083, '17'],\n",
       " [9.190661478599221, '08'],\n",
       " [8.96474358974359, '11'],\n",
       " [8.804177545691905, '22'],\n",
       " [8.794258373205741, '05'],\n",
       " [8.749019607843136, '20'],\n",
       " [8.687258687258687, '21'],\n",
       " [7.948339483394834, '03'],\n",
       " [7.94299674267101, '18'],\n",
       " [7.713298791018998, '16'],\n",
       " [7.5647840531561465, '00'],\n",
       " [7.407801418439717, '01'],\n",
       " [7.163043478260869, '19'],\n",
       " [7.013274336283186, '07'],\n",
       " [6.782051282051282, '06'],\n",
       " [6.696793002915452, '23'],\n",
       " [6.653153153153153, '09']]"
      ]
     },
     "execution_count": 64,
     "metadata": {},
     "output_type": "execute_result"
    }
   ],
   "source": [
    "#sorting and printing value from list of list\n",
    "swap_avg_by_hour = []\n",
    "\n",
    "for row in avg_by_hour:\n",
    "    swap_avg_by_hour.append([row[1], row[0]]) # list whose first element is the second element of the row, and whose second element is the first element of the row\n",
    "    \n",
    "#print(swap_avg_by_hour)\n",
    "\n",
    "sorted_swap = sorted(swap_avg_by_hour, reverse=True) #that the highest value in the first column appears first in the list\n",
    "\n",
    "sorted_swap"
   ]
  },
  {
   "cell_type": "code",
   "execution_count": 65,
   "id": "27c702e8-ef47-4bc1-8bc3-2791f765599b",
   "metadata": {},
   "outputs": [
    {
     "name": "stdout",
     "output_type": "stream",
     "text": [
      "Top 5 Hours for 'Ask HN' Comments\n",
      "15:00: 28.68 average comments per post\n",
      "13:00: 16.32 average comments per post\n",
      "12:00: 12.38 average comments per post\n",
      "02:00: 11.14 average comments per post\n",
      "10:00: 10.68 average comments per post\n"
     ]
    }
   ],
   "source": [
    "# Sort the values and print the the 5 hours with the highest average comments.\n",
    "\n",
    "print(\"Top 5 Hours for 'Ask HN' Comments\")\n",
    "for avg, each_hr in sorted_swap[:5]:\n",
    "    print(\n",
    "        \"{}: {:.2f} average comments per post\".format( #\n",
    "            dt.datetime.strptime(each_hr, \"%H\").strftime(\"%H:%M\"),avg\n",
    "        )\n",
    "    )"
   ]
  },
  {
   "cell_type": "markdown",
   "id": "1b2fe972-535b-41fa-a99f-f54c49d7ed7c",
   "metadata": {},
   "source": [
    "During which hours should you create a post to have a higher chance of receiving comments?\n",
    "The hour that receives the most comments per post on average is 15:00, with an average of 38.59 comments per post. \n",
    "\n",
    "###### Conclusion\n",
    "We analyzed ask posts and show posts to determine which type of post and time receive the most comments on average. Based on our analysis, to maximize the amount of comments a post receives, we'd recommend the post be categorized as ask post and created between 15:00 and 16:00 (3:00 pm est - 4:00 pm est).\n"
   ]
  }
 ],
 "metadata": {
  "kernelspec": {
   "display_name": "Python 3",
   "language": "python",
   "name": "python3"
  },
  "language_info": {
   "codemirror_mode": {
    "name": "ipython",
    "version": 3
   },
   "file_extension": ".py",
   "mimetype": "text/x-python",
   "name": "python",
   "nbconvert_exporter": "python",
   "pygments_lexer": "ipython3",
   "version": "3.8.10"
  }
 },
 "nbformat": 4,
 "nbformat_minor": 5
}
