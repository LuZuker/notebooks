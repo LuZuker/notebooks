{
 "cells": [
  {
   "cell_type": "markdown",
   "id": "42402b04-b7f5-4798-b95f-8f728e77ac32",
   "metadata": {},
   "source": [
    "## 50 startups\n",
    "\n",
    "### Predict which companies to invest for maximizing profit"
   ]
  },
  {
   "cell_type": "markdown",
   "id": "9393a497-635b-4ec6-894d-ac7a28bed15d",
   "metadata": {},
   "source": [
    "### Part Introduction\n",
    "\n",
    "#### Overview\n",
    "The dataset about 50 startups. It has 7 columns:\n",
    "\n",
    "Metadata:\n",
    "\n",
    "    -----ID - startup ID (Schould create)\n",
    "    R&D - Spend how much each startup spends on Research and Development\n",
    "    Administration - how much they send on Administration cost\n",
    "    Marketing - Spend how much they spend on Marketing\n",
    "    State - which state the startup is based in\n",
    "    Profit -  the profit made by the startup, $\n",
    "    \n",
    "#### Questions:\n",
    "\n",
    "Choose model with the best score, create predictions, choose companirs to invest for maximizing profit."
   ]
  },
  {
   "cell_type": "markdown",
   "id": "b4320e98-e430-439d-9ab3-2fb9c37a9135",
   "metadata": {},
   "source": [
    "### Part 1: Import, Load Data\n",
    "\n",
    " Import libraries, read data file"
   ]
  },
  {
   "cell_type": "code",
   "execution_count": 77,
   "id": "6f1891dd-29e5-49a7-b21c-9f1d1a7e2a4a",
   "metadata": {},
   "outputs": [],
   "source": [
    "#import standard libraries\n",
    "import numpy as np\n",
    "import pandas as pd\n",
    "import seaborn as sn\n",
    "import matplotlib.pyplot as plt\n",
    "import pylab as pl\n",
    "from scipy import stats\n",
    "\n",
    "#import model and metrics\n",
    "from sklearn import metrics, linear_model, model_selection\n",
    "from sklearn.preprocessing import StandardScaler\n",
    "from sklearn.metrics import r2_score, mean_squared_error, mean_squared_log_error, mean_absolute_error\n",
    "from sklearn.model_selection import cross_val_score\n",
    "from sklearn.model_selection import train_test_split\n",
    "from sklearn.linear_model import LinearRegression\n",
    "from sklearn.ensemble import GradientBoostingRegressor"
   ]
  },
  {
   "cell_type": "code",
   "execution_count": 78,
   "id": "9c72b6eb-4796-4852-9f22-beb7b72f09ca",
   "metadata": {},
   "outputs": [],
   "source": [
    "#load data\n",
    "#read data from '.csv' files\n",
    "train = pd.read_csv(\"train_50Startups.csv\")\n",
    "#test = pd.read_csv(\"test_50Startups.csv\")\n",
    "\n",
    "#identify target\n",
    "target = train['Profit']"
   ]
  },
  {
   "cell_type": "markdown",
   "id": "dd93df92-82db-4867-93ef-d77c9d9ff4fa",
   "metadata": {},
   "source": [
    "### Part 2: Exploratory Data Analysis\n",
    "\n",
    "Info, head; \n",
    "Describe + visualisation(displot);\n",
    "List of Numerical and Categorical features;\n",
    "Missing Data (list of data features, filling missing values;\n",
    "Visualisation of Numerical and Categorical features (replot + barplot)"
   ]
  },
  {
   "cell_type": "code",
   "execution_count": 79,
   "id": "c039d645-3cf2-4c00-92be-2350cc6b1d41",
   "metadata": {},
   "outputs": [
    {
     "name": "stdout",
     "output_type": "stream",
     "text": [
      "<class 'pandas.core.frame.DataFrame'>\n",
      "RangeIndex: 50 entries, 0 to 49\n",
      "Data columns (total 5 columns):\n",
      " #   Column           Non-Null Count  Dtype  \n",
      "---  ------           --------------  -----  \n",
      " 0   R&D Spend        50 non-null     float64\n",
      " 1   Administration   50 non-null     float64\n",
      " 2   Marketing Spend  50 non-null     float64\n",
      " 3   State            50 non-null     object \n",
      " 4   Profit           50 non-null     float64\n",
      "dtypes: float64(4), object(1)\n",
      "memory usage: 2.1+ KB\n"
     ]
    },
    {
     "data": {
      "text/plain": [
       "(50, 5)"
      ]
     },
     "execution_count": 79,
     "metadata": {},
     "output_type": "execute_result"
    }
   ],
   "source": [
    "#print the full summary of the train dataset\n",
    "train.columns\n",
    "train.info()\n",
    "train.shape"
   ]
  },
  {
   "cell_type": "code",
   "execution_count": 80,
   "id": "76d6db25-f3ed-483a-829b-169dbb74bb71",
   "metadata": {},
   "outputs": [],
   "source": [
    "#print the full summary of the testset"
   ]
  },
  {
   "cell_type": "code",
   "execution_count": 81,
   "id": "8a8d45e2-0922-47d3-ab67-e91f58aff714",
   "metadata": {},
   "outputs": [
    {
     "data": {
      "text/html": [
       "<div>\n",
       "<style scoped>\n",
       "    .dataframe tbody tr th:only-of-type {\n",
       "        vertical-align: middle;\n",
       "    }\n",
       "\n",
       "    .dataframe tbody tr th {\n",
       "        vertical-align: top;\n",
       "    }\n",
       "\n",
       "    .dataframe thead th {\n",
       "        text-align: right;\n",
       "    }\n",
       "</style>\n",
       "<table border=\"1\" class=\"dataframe\">\n",
       "  <thead>\n",
       "    <tr style=\"text-align: right;\">\n",
       "      <th></th>\n",
       "      <th>R&amp;D Spend</th>\n",
       "      <th>Administration</th>\n",
       "      <th>Marketing Spend</th>\n",
       "      <th>State</th>\n",
       "      <th>Profit</th>\n",
       "    </tr>\n",
       "  </thead>\n",
       "  <tbody>\n",
       "    <tr>\n",
       "      <th>0</th>\n",
       "      <td>165349.20</td>\n",
       "      <td>136897.80</td>\n",
       "      <td>471784.10</td>\n",
       "      <td>New York</td>\n",
       "      <td>192261.83</td>\n",
       "    </tr>\n",
       "    <tr>\n",
       "      <th>1</th>\n",
       "      <td>162597.70</td>\n",
       "      <td>151377.59</td>\n",
       "      <td>443898.53</td>\n",
       "      <td>California</td>\n",
       "      <td>191792.06</td>\n",
       "    </tr>\n",
       "    <tr>\n",
       "      <th>2</th>\n",
       "      <td>153441.51</td>\n",
       "      <td>101145.55</td>\n",
       "      <td>407934.54</td>\n",
       "      <td>Florida</td>\n",
       "      <td>191050.39</td>\n",
       "    </tr>\n",
       "    <tr>\n",
       "      <th>3</th>\n",
       "      <td>144372.41</td>\n",
       "      <td>118671.85</td>\n",
       "      <td>383199.62</td>\n",
       "      <td>New York</td>\n",
       "      <td>182901.99</td>\n",
       "    </tr>\n",
       "    <tr>\n",
       "      <th>4</th>\n",
       "      <td>142107.34</td>\n",
       "      <td>91391.77</td>\n",
       "      <td>366168.42</td>\n",
       "      <td>Florida</td>\n",
       "      <td>166187.94</td>\n",
       "    </tr>\n",
       "  </tbody>\n",
       "</table>\n",
       "</div>"
      ],
      "text/plain": [
       "   R&D Spend  Administration  Marketing Spend       State     Profit\n",
       "0  165349.20       136897.80        471784.10    New York  192261.83\n",
       "1  162597.70       151377.59        443898.53  California  191792.06\n",
       "2  153441.51       101145.55        407934.54     Florida  191050.39\n",
       "3  144372.41       118671.85        383199.62    New York  182901.99\n",
       "4  142107.34        91391.77        366168.42     Florida  166187.94"
      ]
     },
     "execution_count": 81,
     "metadata": {},
     "output_type": "execute_result"
    }
   ],
   "source": [
    "#preview of the first 5 lines of the loaded train data\n",
    "train.head()\n",
    "\n",
    "#preview of the first lines of the loaded test data\n",
    "#test.head()"
   ]
  },
  {
   "cell_type": "code",
   "execution_count": 82,
   "id": "7423ffcc-c33c-4e92-98d2-e4eb3947acb0",
   "metadata": {},
   "outputs": [
    {
     "data": {
      "text/html": [
       "<div>\n",
       "<style scoped>\n",
       "    .dataframe tbody tr th:only-of-type {\n",
       "        vertical-align: middle;\n",
       "    }\n",
       "\n",
       "    .dataframe tbody tr th {\n",
       "        vertical-align: top;\n",
       "    }\n",
       "\n",
       "    .dataframe thead th {\n",
       "        text-align: right;\n",
       "    }\n",
       "</style>\n",
       "<table border=\"1\" class=\"dataframe\">\n",
       "  <thead>\n",
       "    <tr style=\"text-align: right;\">\n",
       "      <th></th>\n",
       "      <th>R&amp;D Spend</th>\n",
       "      <th>Administration</th>\n",
       "      <th>Marketing Spend</th>\n",
       "      <th>Profit</th>\n",
       "    </tr>\n",
       "  </thead>\n",
       "  <tbody>\n",
       "    <tr>\n",
       "      <th>count</th>\n",
       "      <td>50.000000</td>\n",
       "      <td>50.000000</td>\n",
       "      <td>50.000000</td>\n",
       "      <td>50.000000</td>\n",
       "    </tr>\n",
       "    <tr>\n",
       "      <th>mean</th>\n",
       "      <td>73721.615600</td>\n",
       "      <td>121344.639600</td>\n",
       "      <td>211025.097800</td>\n",
       "      <td>112012.639200</td>\n",
       "    </tr>\n",
       "    <tr>\n",
       "      <th>std</th>\n",
       "      <td>45902.256482</td>\n",
       "      <td>28017.802755</td>\n",
       "      <td>122290.310726</td>\n",
       "      <td>40306.180338</td>\n",
       "    </tr>\n",
       "    <tr>\n",
       "      <th>min</th>\n",
       "      <td>0.000000</td>\n",
       "      <td>51283.140000</td>\n",
       "      <td>0.000000</td>\n",
       "      <td>14681.400000</td>\n",
       "    </tr>\n",
       "    <tr>\n",
       "      <th>25%</th>\n",
       "      <td>39936.370000</td>\n",
       "      <td>103730.875000</td>\n",
       "      <td>129300.132500</td>\n",
       "      <td>90138.902500</td>\n",
       "    </tr>\n",
       "    <tr>\n",
       "      <th>50%</th>\n",
       "      <td>73051.080000</td>\n",
       "      <td>122699.795000</td>\n",
       "      <td>212716.240000</td>\n",
       "      <td>107978.190000</td>\n",
       "    </tr>\n",
       "    <tr>\n",
       "      <th>75%</th>\n",
       "      <td>101602.800000</td>\n",
       "      <td>144842.180000</td>\n",
       "      <td>299469.085000</td>\n",
       "      <td>139765.977500</td>\n",
       "    </tr>\n",
       "    <tr>\n",
       "      <th>max</th>\n",
       "      <td>165349.200000</td>\n",
       "      <td>182645.560000</td>\n",
       "      <td>471784.100000</td>\n",
       "      <td>192261.830000</td>\n",
       "    </tr>\n",
       "  </tbody>\n",
       "</table>\n",
       "</div>"
      ],
      "text/plain": [
       "           R&D Spend  Administration  Marketing Spend         Profit\n",
       "count      50.000000       50.000000        50.000000      50.000000\n",
       "mean    73721.615600   121344.639600    211025.097800  112012.639200\n",
       "std     45902.256482    28017.802755    122290.310726   40306.180338\n",
       "min         0.000000    51283.140000         0.000000   14681.400000\n",
       "25%     39936.370000   103730.875000    129300.132500   90138.902500\n",
       "50%     73051.080000   122699.795000    212716.240000  107978.190000\n",
       "75%    101602.800000   144842.180000    299469.085000  139765.977500\n",
       "max    165349.200000   182645.560000    471784.100000  192261.830000"
      ]
     },
     "execution_count": 82,
     "metadata": {},
     "output_type": "execute_result"
    }
   ],
   "source": [
    "#observation of trainset(discribe)\n",
    "train.describe()"
   ]
  },
  {
   "cell_type": "markdown",
   "id": "a4d38e74-dff0-4706-80de-94adaa76bcae",
   "metadata": {},
   "source": [
    "You look the mean value and the median value (50%), 75% value and max value. there are not having much difference, expect Marketing Spend column. "
   ]
  },
  {
   "cell_type": "code",
   "execution_count": 83,
   "id": "1dd51bbf-ad4a-4bf9-b289-4b2370b266f5",
   "metadata": {},
   "outputs": [
    {
     "data": {
      "text/plain": [
       "array([192261.83, 191792.06, 191050.39, 182901.99, 166187.94, 156991.12,\n",
       "       156122.51, 155752.6 , 152211.77, 149759.96, 146121.95, 144259.4 ,\n",
       "       141585.52, 134307.35, 132602.65, 129917.04, 126992.93, 125370.37,\n",
       "       124266.9 , 122776.86, 118474.03, 111313.02, 110352.25, 108733.99,\n",
       "       108552.04, 107404.34, 105733.54, 105008.31, 103282.38, 101004.64,\n",
       "        99937.59,  97483.56,  97427.84,  96778.92,  96712.8 ,  96479.51,\n",
       "        90708.19,  89949.14,  81229.06,  81005.76,  78239.91,  77798.83,\n",
       "        71498.49,  69758.98,  65200.33,  64926.08,  49490.75,  42559.73,\n",
       "        35673.41,  14681.4 ])"
      ]
     },
     "execution_count": 83,
     "metadata": {},
     "output_type": "execute_result"
    }
   ],
   "source": [
    "#observation of target variable(understanding)\n",
    "train['Profit'].describe()\n",
    "train['Profit'].unique()"
   ]
  },
  {
   "cell_type": "code",
   "execution_count": 84,
   "id": "6899ef4e-fb45-457d-84c8-3b9d6d07166f",
   "metadata": {},
   "outputs": [
    {
     "data": {
      "text/plain": [
       "89949.14     1\n",
       "156122.51    1\n",
       "107404.34    1\n",
       "124266.90    1\n",
       "71498.49     1\n",
       "144259.40    1\n",
       "126992.93    1\n",
       "65200.33     1\n",
       "49490.75     1\n",
       "156991.12    1\n",
       "125370.37    1\n",
       "105008.31    1\n",
       "149759.96    1\n",
       "146121.95    1\n",
       "77798.83     1\n",
       "101004.64    1\n",
       "118474.03    1\n",
       "81229.06     1\n",
       "182901.99    1\n",
       "103282.38    1\n",
       "141585.52    1\n",
       "96778.92     1\n",
       "129917.04    1\n",
       "191050.39    1\n",
       "110352.25    1\n",
       "78239.91     1\n",
       "35673.41     1\n",
       "64926.08     1\n",
       "108733.99    1\n",
       "192261.83    1\n",
       "191792.06    1\n",
       "99937.59     1\n",
       "152211.77    1\n",
       "81005.76     1\n",
       "122776.86    1\n",
       "155752.60    1\n",
       "97427.84     1\n",
       "111313.02    1\n",
       "96479.51     1\n",
       "166187.94    1\n",
       "108552.04    1\n",
       "96712.80     1\n",
       "14681.40     1\n",
       "90708.19     1\n",
       "134307.35    1\n",
       "42559.73     1\n",
       "69758.98     1\n",
       "105733.54    1\n",
       "97483.56     1\n",
       "132602.65    1\n",
       "Name: Profit, dtype: int64"
      ]
     },
     "execution_count": 84,
     "metadata": {},
     "output_type": "execute_result"
    }
   ],
   "source": [
    "#check the train duplicated\n",
    "train[train.duplicated()]\n",
    "#check of target variable duplicates\n",
    "train['Profit'].value_counts()"
   ]
  },
  {
   "cell_type": "markdown",
   "id": "75095574-a0ae-4939-89fe-2878b38e6611",
   "metadata": {},
   "source": [
    "- You don't have any duplicate values in our dataset. If they would have been you would have to delete it\n",
    "- You could see that all the observations have 1 count, it means they are unique."
   ]
  },
  {
   "cell_type": "code",
   "execution_count": 85,
   "id": "3e43c71c-9bef-4405-837d-f792268420e1",
   "metadata": {},
   "outputs": [
    {
     "data": {
      "text/plain": [
       "<seaborn.axisgrid.FacetGrid at 0x155348820>"
      ]
     },
     "execution_count": 85,
     "metadata": {},
     "output_type": "execute_result"
    },
    {
     "data": {
      "image/png": "[encoded data removed]",
      "text/plain": [
       "<Figure size 360x360 with 1 Axes>"
      ]
     },
     "metadata": {
      "needs_background": "light"
     },
     "output_type": "display_data"
    }
   ],
   "source": [
    "#visualisation of target variable\n",
    "sn.displot(train['Profit'], kde=True) #or distplot"
   ]
  },
  {
   "cell_type": "markdown",
   "id": "14f7b158-132f-4114-99c8-08c3c1b32e71",
   "metadata": {},
   "source": [
    "Dist plot are used to check the distribution of the data and check for skewness in the data"
   ]
  },
  {
   "cell_type": "code",
   "execution_count": 86,
   "id": "d7b26558-613e-41d5-a69a-4bfec847e285",
   "metadata": {},
   "outputs": [
    {
     "data": {
      "text/plain": [
       "<seaborn.axisgrid.PairGrid at 0x1551fa3a0>"
      ]
     },
     "execution_count": 86,
     "metadata": {},
     "output_type": "execute_result"
    },
    {
     "data": {
      "image/png": "[encoded data removed]",
      "text/plain": [
       "<Figure size 720x720 with 20 Axes>"
      ]
     },
     "metadata": {
      "needs_background": "light"
     },
     "output_type": "display_data"
    }
   ],
   "source": [
    "sn.pairplot(train)"
   ]
  },
  {
   "cell_type": "markdown",
   "id": "b19bfd0c-e8b0-43b1-9aea-2a51592951f1",
   "metadata": {},
   "source": [
    "There exist a positive correlation between R&D Spend and Marketing Spend as well. You will use headmap and correlation function to determine for features."
   ]
  },
  {
   "cell_type": "code",
   "execution_count": 87,
   "id": "f035efc8-88b3-4687-903a-d8eff1df2a74",
   "metadata": {},
   "outputs": [],
   "source": [
    "#If you have ID, set ID to index in train and teat dataset\n",
    "#train = train.set_index('ID')"
   ]
  },
  {
   "cell_type": "code",
   "execution_count": 88,
   "id": "e180f1ff-b0a9-4eaf-a4cf-79bab99db936",
   "metadata": {},
   "outputs": [
    {
     "name": "stdout",
     "output_type": "stream",
     "text": [
      "Quantity of Numerical features:  4 Index(['R&D Spend', 'Administration', 'Marketing Spend', 'Profit'], dtype='object')\n",
      "\n",
      "Quantity of Categorical features:  1 Index(['State'], dtype='object')\n",
      "\n"
     ]
    }
   ],
   "source": [
    "#list of Numerical and Categorical features\n",
    "#check for Numerical and Categorical features in train\n",
    "numerical_feats_train = train.dtypes[train.dtypes != 'object'].index\n",
    "categorical_feats_train = train.dtypes[train.dtypes == 'object'].index\n",
    "print('Quantity of Numerical features: ', len(numerical_feats_train), train[numerical_feats_train].columns)\n",
    "print()\n",
    "print('Quantity of Categorical features: ', len(categorical_feats_train), train[categorical_feats_train].columns)\n",
    "print()\n",
    "\n"
   ]
  },
  {
   "cell_type": "code",
   "execution_count": 89,
   "id": "4156ab65-c749-4188-82d9-b18db3a87078",
   "metadata": {},
   "outputs": [
    {
     "name": "stdout",
     "output_type": "stream",
     "text": [
      "R&D Spend          0\n",
      "Administration     0\n",
      "Marketing Spend    0\n",
      "State              0\n",
      "Profit             0\n",
      "dtype: int64\n",
      "There are 0 with NAN values\n"
     ]
    },
    {
     "data": {
      "text/plain": [
       "[]"
      ]
     },
     "execution_count": 89,
     "metadata": {},
     "output_type": "execute_result"
    }
   ],
   "source": [
    "#missing values train and test\n",
    "#check the train features with missing values\n",
    "nan_columns = [i for i in train.columns if train[i].isnull().any()]\n",
    "print(train.isnull().sum())\n",
    "train.isnull().sum()\n",
    "print(\"There are \" + str(len(nan_columns)) + \" with NAN values\")\n",
    "nan_columns"
   ]
  },
  {
   "cell_type": "code",
   "execution_count": 90,
   "id": "0e928f43-b079-417e-a540-3058c9e851ff",
   "metadata": {},
   "outputs": [
    {
     "data": {
      "text/plain": [
       "R&D Spend          0\n",
       "Administration     0\n",
       "Marketing Spend    0\n",
       "State              0\n",
       "Profit             0\n",
       "dtype: int64"
      ]
     },
     "execution_count": 90,
     "metadata": {},
     "output_type": "execute_result"
    }
   ],
   "source": [
    "#check the tarin features with values = 0\n",
    "train.isnull().sum()"
   ]
  },
  {
   "cell_type": "markdown",
   "id": "7f3043da-cc2d-4574-8633-9b245b97f3f1",
   "metadata": {},
   "source": [
    "Filling missing values (fields where NAN values have meaning)\n",
    "\n",
    "Explaining in further depth:\n",
    "\n",
    "    - 'Category': categorical - replacement of NAN by 'None'\n",
    "    - 'R&D Spend': numerical - replacement of NAN by 'mean or 0' \n",
    "    - 'Marketing Spend': numerical - replacement of NAN by 'mean or 0'\n",
    "    (I have only values = 0)\n"
   ]
  },
  {
   "cell_type": "code",
   "execution_count": 91,
   "id": "a06267f5-2d15-48c4-a888-247926fc199b",
   "metadata": {},
   "outputs": [],
   "source": [
    "#Numerical NAN columns to fill in train and test dataset\n",
    "##nan_columns_fill = [\n",
    "##    'R&D Spend', \n",
    "##    'Marketing Spend'\n",
    "##    ]\n",
    "\n",
    "#replace 'NAN' with 'mean or 0' in these columns\n",
    "##train.fillna(train.mean(), inplace = True)\n",
    "##test.fillna(test.mean(), inplace=True)\n",
    "\n",
    "# categorical NAN columns to fill in train and test datasets\n",
    "##na_columns_fill = [\n",
    "##        'Category'\n",
    "##        ]\n",
    "\n",
    "# replace 'NAN' with 'None' in these columns\n",
    "##for col in an_columns_fill:\n",
    "##    train[col].fillna('None', inplace=True)\n",
    "##    test[col].fillna('None', inplace=True)\n",
    "\n",
    "#check is there any mising value left in train and test\n",
    "##train.isnull().sum().sum()\n",
    "##test.isnull().sum().sum()"
   ]
  },
  {
   "cell_type": "code",
   "execution_count": 92,
   "id": "5aa648f9-c701-4ff2-9946-9898e76c7567",
   "metadata": {},
   "outputs": [
    {
     "name": "stderr",
     "output_type": "stream",
     "text": [
      "/opt/homebrew/Caskroom/miniforge/base/envs/jupyter/lib/python3.8/site-packages/seaborn/_decorators.py:36: FutureWarning: Pass the following variables as keyword args: x, y. From version 0.12, the only valid positional argument will be `data`, and passing other arguments without an explicit keyword will result in an error or misinterpretation.\n",
      "  warnings.warn(\n",
      "/opt/homebrew/Caskroom/miniforge/base/envs/jupyter/lib/python3.8/site-packages/seaborn/_decorators.py:36: FutureWarning: Pass the following variables as keyword args: x, y. From version 0.12, the only valid positional argument will be `data`, and passing other arguments without an explicit keyword will result in an error or misinterpretation.\n",
      "  warnings.warn(\n",
      "/opt/homebrew/Caskroom/miniforge/base/envs/jupyter/lib/python3.8/site-packages/seaborn/_decorators.py:36: FutureWarning: Pass the following variables as keyword args: x, y. From version 0.12, the only valid positional argument will be `data`, and passing other arguments without an explicit keyword will result in an error or misinterpretation.\n",
      "  warnings.warn(\n"
     ]
    },
    {
     "data": {
      "image/png": "[encoded data removed]",
      "text/plain": [
       "<Figure size 504x432 with 4 Axes>"
      ]
     },
     "metadata": {
      "needs_background": "light"
     },
     "output_type": "display_data"
    }
   ],
   "source": [
    "# Visualisation of Numerical features (regplot)\n",
    "nr_rows = 2\n",
    "nr_cols = 2\n",
    "\n",
    "fig, axs = plt.subplots(nr_rows, nr_cols, figsize=(nr_cols*3.5, nr_rows*3))\n",
    "\n",
    "num_feats = list(numerical_feats_train)\n",
    "not_plot = ['ID', 'Profit']\n",
    "plot_num_feats = [c for c in list(numerical_feats_train) if c not in not_plot]\n",
    "\n",
    "\n",
    "for r in range(0,nr_rows):\n",
    "    for c in range(0,nr_cols):  \n",
    "        i = r*nr_cols + c\n",
    "        if i < len(plot_num_feats):\n",
    "            sn.regplot(train[plot_num_feats[i]], train['Profit'], ax = axs[r][c], color = \"#5081ac\" )\n",
    "            stp = stats.pearsonr(train[plot_num_feats[i]], train['Profit'])\n",
    "          \n",
    "            str_title = \"r = \" + \"{0:.2f}\".format(stp[0]) + \"      \" \"p = \" + \"{0:.2f}\".format(stp[1])\n",
    "            axs[r][c].set_title(str_title, fontsize=11)\n",
    "\n",
    "\n",
    "\n",
    "plt.tight_layout()    \n",
    "plt.show()"
   ]
  },
  {
   "cell_type": "code",
   "execution_count": 93,
   "id": "bec6579a-99bf-4b56-a5b7-7cfe8cf26328",
   "metadata": {},
   "outputs": [
    {
     "data": {
      "text/plain": [
       "<AxesSubplot:xlabel='State', ylabel='Profit'>"
      ]
     },
     "execution_count": 93,
     "metadata": {},
     "output_type": "execute_result"
    },
    {
     "data": {
      "image/png": "[encoded data removed]",
      "text/plain": [
       "<Figure size 432x288 with 1 Axes>"
      ]
     },
     "metadata": {
      "needs_background": "light"
     },
     "output_type": "display_data"
    }
   ],
   "source": [
    "#profit split in State level\n",
    "sn.barplot(x = 'State', y = 'Profit', data = train, palette = 'Blues_d')"
   ]
  },
  {
   "cell_type": "markdown",
   "id": "7eb680fb-6303-4fc9-bbb4-9480f09f4d81",
   "metadata": {},
   "source": [
    "Heatmap is very effective technique to check the missing values in the dataset.\n",
    "\n",
    "odervations: I don't have any missing values in dataset"
   ]
  },
  {
   "cell_type": "code",
   "execution_count": 94,
   "id": "88a4644c-852e-42e5-b474-fe202cd41069",
   "metadata": {},
   "outputs": [
    {
     "data": {
      "text/plain": [
       "<AxesSubplot:>"
      ]
     },
     "execution_count": 94,
     "metadata": {},
     "output_type": "execute_result"
    },
    {
     "data": {
      "image/png": "[encoded data removed]",
      "text/plain": [
       "<Figure size 432x288 with 2 Axes>"
      ]
     },
     "metadata": {
      "needs_background": "light"
     },
     "output_type": "display_data"
    }
   ],
   "source": [
    "sn.heatmap(train.isnull())"
   ]
  },
  {
   "cell_type": "code",
   "execution_count": 95,
   "id": "fcffe2fe-3336-4c6a-a3ef-25de42de1852",
   "metadata": {},
   "outputs": [
    {
     "data": {
      "text/plain": [
       "R&D Spend          0\n",
       "Administration     0\n",
       "Marketing Spend    0\n",
       "State              0\n",
       "Profit             0\n",
       "dtype: int64"
      ]
     },
     "execution_count": 95,
     "metadata": {},
     "output_type": "execute_result"
    }
   ],
   "source": [
    "#diffetent metode check missing values\n",
    "train.isna().sum()"
   ]
  },
  {
   "cell_type": "markdown",
   "id": "d85ae0e5-98f8-4e4d-baa2-427ac7379785",
   "metadata": {},
   "source": [
    "### Part 3: Data Wrangling and Transformation\n",
    "\n",
    "One Hot Encoding,Standard Scaler(optional), Creating dataset for ML part, Train\\Test splitting method \n",
    "\n",
    "\n",
    "#### Correlation\n",
    "\n",
    "The matrix is an important data analysis metric that is computed to summarize data to understand correlation(relationship) between various variables.\n",
    "\n",
    "Correlation only works on the continuous variables, we need to convert the State variable into numerical calues"
   ]
  },
  {
   "cell_type": "code",
   "execution_count": 96,
   "id": "fb0125d7-3951-466b-8d86-edf24627ee44",
   "metadata": {},
   "outputs": [
    {
     "data": {
      "text/plain": [
       "count             50\n",
       "unique             3\n",
       "top       California\n",
       "freq              17\n",
       "Name: State, dtype: object"
      ]
     },
     "execution_count": 96,
     "metadata": {},
     "output_type": "execute_result"
    }
   ],
   "source": [
    "train['State'].describe()"
   ]
  },
  {
   "cell_type": "code",
   "execution_count": 97,
   "id": "5e89acfe-9f6d-476c-88b6-eac9d413593f",
   "metadata": {},
   "outputs": [
    {
     "data": {
      "text/html": [
       "<div>\n",
       "<style scoped>\n",
       "    .dataframe tbody tr th:only-of-type {\n",
       "        vertical-align: middle;\n",
       "    }\n",
       "\n",
       "    .dataframe tbody tr th {\n",
       "        vertical-align: top;\n",
       "    }\n",
       "\n",
       "    .dataframe thead th {\n",
       "        text-align: right;\n",
       "    }\n",
       "</style>\n",
       "<table border=\"1\" class=\"dataframe\">\n",
       "  <thead>\n",
       "    <tr style=\"text-align: right;\">\n",
       "      <th></th>\n",
       "      <th>R&amp;D Spend</th>\n",
       "      <th>Administration</th>\n",
       "      <th>Marketing Spend</th>\n",
       "      <th>Profit</th>\n",
       "      <th>State_California</th>\n",
       "      <th>State_Florida</th>\n",
       "      <th>State_New York</th>\n",
       "    </tr>\n",
       "  </thead>\n",
       "  <tbody>\n",
       "    <tr>\n",
       "      <th>0</th>\n",
       "      <td>165349.20</td>\n",
       "      <td>136897.80</td>\n",
       "      <td>471784.10</td>\n",
       "      <td>192261.83</td>\n",
       "      <td>0</td>\n",
       "      <td>0</td>\n",
       "      <td>1</td>\n",
       "    </tr>\n",
       "    <tr>\n",
       "      <th>1</th>\n",
       "      <td>162597.70</td>\n",
       "      <td>151377.59</td>\n",
       "      <td>443898.53</td>\n",
       "      <td>191792.06</td>\n",
       "      <td>1</td>\n",
       "      <td>0</td>\n",
       "      <td>0</td>\n",
       "    </tr>\n",
       "    <tr>\n",
       "      <th>2</th>\n",
       "      <td>153441.51</td>\n",
       "      <td>101145.55</td>\n",
       "      <td>407934.54</td>\n",
       "      <td>191050.39</td>\n",
       "      <td>0</td>\n",
       "      <td>1</td>\n",
       "      <td>0</td>\n",
       "    </tr>\n",
       "    <tr>\n",
       "      <th>3</th>\n",
       "      <td>144372.41</td>\n",
       "      <td>118671.85</td>\n",
       "      <td>383199.62</td>\n",
       "      <td>182901.99</td>\n",
       "      <td>0</td>\n",
       "      <td>0</td>\n",
       "      <td>1</td>\n",
       "    </tr>\n",
       "    <tr>\n",
       "      <th>4</th>\n",
       "      <td>142107.34</td>\n",
       "      <td>91391.77</td>\n",
       "      <td>366168.42</td>\n",
       "      <td>166187.94</td>\n",
       "      <td>0</td>\n",
       "      <td>1</td>\n",
       "      <td>0</td>\n",
       "    </tr>\n",
       "  </tbody>\n",
       "</table>\n",
       "</div>"
      ],
      "text/plain": [
       "   R&D Spend  Administration  Marketing Spend     Profit  State_California  \\\n",
       "0  165349.20       136897.80        471784.10  192261.83                 0   \n",
       "1  162597.70       151377.59        443898.53  191792.06                 1   \n",
       "2  153441.51       101145.55        407934.54  191050.39                 0   \n",
       "3  144372.41       118671.85        383199.62  182901.99                 0   \n",
       "4  142107.34        91391.77        366168.42  166187.94                 0   \n",
       "\n",
       "   State_Florida  State_New York  \n",
       "0              0               1  \n",
       "1              0               0  \n",
       "2              1               0  \n",
       "3              0               1  \n",
       "4              1               0  "
      ]
     },
     "execution_count": 97,
     "metadata": {},
     "output_type": "execute_result"
    }
   ],
   "source": [
    "# One Hot Encoding technique. we have onle 3 unique states. If we have more we would have used Label Encoding\n",
    "train = pd.get_dummies(train, columns = ['State'])\n",
    "train.head()"
   ]
  },
  {
   "cell_type": "code",
   "execution_count": 98,
   "id": "c3c48e3e-0630-42a0-9ed5-42f06172596f",
   "metadata": {},
   "outputs": [
    {
     "data": {
      "text/plain": [
       "(50, 7)"
      ]
     },
     "execution_count": 98,
     "metadata": {},
     "output_type": "execute_result"
    }
   ],
   "source": [
    "#check columns \n",
    "train.shape"
   ]
  },
  {
   "cell_type": "code",
   "execution_count": 99,
   "id": "413b99d7-64dd-4b97-9a28-29f8efc5ec1b",
   "metadata": {},
   "outputs": [
    {
     "data": {
      "text/plain": [
       "<AxesSubplot:>"
      ]
     },
     "execution_count": 99,
     "metadata": {},
     "output_type": "execute_result"
    },
    {
     "data": {
      "image/png": "[encoded data removed]",
      "text/plain": [
       "<Figure size 576x288 with 2 Axes>"
      ]
     },
     "metadata": {
      "needs_background": "light"
     },
     "output_type": "display_data"
    }
   ],
   "source": [
    "#add columns for State\n",
    "plt.figure(figsize=(8,4))\n",
    "sn.heatmap(train.corr(),annot = True)"
   ]
  },
  {
   "cell_type": "code",
   "execution_count": 100,
   "id": "a89f5317-9f95-43f9-af9b-0a751f2f5f0d",
   "metadata": {},
   "outputs": [
    {
     "data": {
      "text/html": [
       "<div>\n",
       "<style scoped>\n",
       "    .dataframe tbody tr th:only-of-type {\n",
       "        vertical-align: middle;\n",
       "    }\n",
       "\n",
       "    .dataframe tbody tr th {\n",
       "        vertical-align: top;\n",
       "    }\n",
       "\n",
       "    .dataframe thead th {\n",
       "        text-align: right;\n",
       "    }\n",
       "</style>\n",
       "<table border=\"1\" class=\"dataframe\">\n",
       "  <thead>\n",
       "    <tr style=\"text-align: right;\">\n",
       "      <th></th>\n",
       "      <th>R&amp;D Spend</th>\n",
       "      <th>Administration</th>\n",
       "      <th>Marketing Spend</th>\n",
       "      <th>Profit</th>\n",
       "      <th>State_California</th>\n",
       "      <th>State_Florida</th>\n",
       "      <th>State_New York</th>\n",
       "    </tr>\n",
       "  </thead>\n",
       "  <tbody>\n",
       "    <tr>\n",
       "      <th>R&amp;D Spend</th>\n",
       "      <td>1.000000</td>\n",
       "      <td>0.241955</td>\n",
       "      <td>0.724248</td>\n",
       "      <td>0.972900</td>\n",
       "      <td>-0.143165</td>\n",
       "      <td>0.105711</td>\n",
       "      <td>0.039068</td>\n",
       "    </tr>\n",
       "    <tr>\n",
       "      <th>Administration</th>\n",
       "      <td>0.241955</td>\n",
       "      <td>1.000000</td>\n",
       "      <td>-0.032154</td>\n",
       "      <td>0.200717</td>\n",
       "      <td>-0.015478</td>\n",
       "      <td>0.010493</td>\n",
       "      <td>0.005145</td>\n",
       "    </tr>\n",
       "    <tr>\n",
       "      <th>Marketing Spend</th>\n",
       "      <td>0.724248</td>\n",
       "      <td>-0.032154</td>\n",
       "      <td>1.000000</td>\n",
       "      <td>0.747766</td>\n",
       "      <td>-0.168875</td>\n",
       "      <td>0.205685</td>\n",
       "      <td>-0.033670</td>\n",
       "    </tr>\n",
       "    <tr>\n",
       "      <th>Profit</th>\n",
       "      <td>0.972900</td>\n",
       "      <td>0.200717</td>\n",
       "      <td>0.747766</td>\n",
       "      <td>1.000000</td>\n",
       "      <td>-0.145837</td>\n",
       "      <td>0.116244</td>\n",
       "      <td>0.031368</td>\n",
       "    </tr>\n",
       "    <tr>\n",
       "      <th>State_California</th>\n",
       "      <td>-0.143165</td>\n",
       "      <td>-0.015478</td>\n",
       "      <td>-0.168875</td>\n",
       "      <td>-0.145837</td>\n",
       "      <td>1.000000</td>\n",
       "      <td>-0.492366</td>\n",
       "      <td>-0.515152</td>\n",
       "    </tr>\n",
       "    <tr>\n",
       "      <th>State_Florida</th>\n",
       "      <td>0.105711</td>\n",
       "      <td>0.010493</td>\n",
       "      <td>0.205685</td>\n",
       "      <td>0.116244</td>\n",
       "      <td>-0.492366</td>\n",
       "      <td>1.000000</td>\n",
       "      <td>-0.492366</td>\n",
       "    </tr>\n",
       "    <tr>\n",
       "      <th>State_New York</th>\n",
       "      <td>0.039068</td>\n",
       "      <td>0.005145</td>\n",
       "      <td>-0.033670</td>\n",
       "      <td>0.031368</td>\n",
       "      <td>-0.515152</td>\n",
       "      <td>-0.492366</td>\n",
       "      <td>1.000000</td>\n",
       "    </tr>\n",
       "  </tbody>\n",
       "</table>\n",
       "</div>"
      ],
      "text/plain": [
       "                  R&D Spend  Administration  Marketing Spend    Profit  \\\n",
       "R&D Spend          1.000000        0.241955         0.724248  0.972900   \n",
       "Administration     0.241955        1.000000        -0.032154  0.200717   \n",
       "Marketing Spend    0.724248       -0.032154         1.000000  0.747766   \n",
       "Profit             0.972900        0.200717         0.747766  1.000000   \n",
       "State_California  -0.143165       -0.015478        -0.168875 -0.145837   \n",
       "State_Florida      0.105711        0.010493         0.205685  0.116244   \n",
       "State_New York     0.039068        0.005145        -0.033670  0.031368   \n",
       "\n",
       "                  State_California  State_Florida  State_New York  \n",
       "R&D Spend                -0.143165       0.105711        0.039068  \n",
       "Administration           -0.015478       0.010493        0.005145  \n",
       "Marketing Spend          -0.168875       0.205685       -0.033670  \n",
       "Profit                   -0.145837       0.116244        0.031368  \n",
       "State_California          1.000000      -0.492366       -0.515152  \n",
       "State_Florida            -0.492366       1.000000       -0.492366  \n",
       "State_New York           -0.515152      -0.492366        1.000000  "
      ]
     },
     "execution_count": 100,
     "metadata": {},
     "output_type": "execute_result"
    }
   ],
   "source": [
    "#finding correlation\n",
    "train.corr()"
   ]
  },
  {
   "cell_type": "markdown",
   "id": "59a76071-f81d-4377-a019-720fed2e71da",
   "metadata": {},
   "source": [
    "##### Observation:\n",
    "There exist a positive correlation between R&D Spend and Marketing Spend with value 0.7 and very high posotive correlation with a value of 0.973 between Profit and R&D Spend\n",
    "\n",
    "The correlation value for Administration and R&D Spend is 0.24 so is it very low correlation and between Administration and Marketing Spend is -0.03 so we can say there is negative correlation\n"
   ]
  },
  {
   "cell_type": "markdown",
   "id": "28ae101e-b627-47a9-9b26-825811e8afd6",
   "metadata": {},
   "source": [
    "Control missing values in test data set and drop unnecessary variables"
   ]
  },
  {
   "cell_type": "code",
   "execution_count": 101,
   "id": "2b3a21d8-1613-4d9c-8428-412d3788b440",
   "metadata": {},
   "outputs": [
    {
     "data": {
      "text/html": [
       "<div>\n",
       "<style scoped>\n",
       "    .dataframe tbody tr th:only-of-type {\n",
       "        vertical-align: middle;\n",
       "    }\n",
       "\n",
       "    .dataframe tbody tr th {\n",
       "        vertical-align: top;\n",
       "    }\n",
       "\n",
       "    .dataframe thead th {\n",
       "        text-align: right;\n",
       "    }\n",
       "</style>\n",
       "<table border=\"1\" class=\"dataframe\">\n",
       "  <thead>\n",
       "    <tr style=\"text-align: right;\">\n",
       "      <th></th>\n",
       "      <th>RD_Spend</th>\n",
       "      <th>Administration</th>\n",
       "      <th>Marketing_Spend</th>\n",
       "      <th>Profit</th>\n",
       "      <th>State_California</th>\n",
       "      <th>State_Florida</th>\n",
       "      <th>State_New_York</th>\n",
       "    </tr>\n",
       "  </thead>\n",
       "  <tbody>\n",
       "    <tr>\n",
       "      <th>0</th>\n",
       "      <td>165349.20</td>\n",
       "      <td>136897.80</td>\n",
       "      <td>471784.10</td>\n",
       "      <td>192261.83</td>\n",
       "      <td>0</td>\n",
       "      <td>0</td>\n",
       "      <td>1</td>\n",
       "    </tr>\n",
       "    <tr>\n",
       "      <th>1</th>\n",
       "      <td>162597.70</td>\n",
       "      <td>151377.59</td>\n",
       "      <td>443898.53</td>\n",
       "      <td>191792.06</td>\n",
       "      <td>1</td>\n",
       "      <td>0</td>\n",
       "      <td>0</td>\n",
       "    </tr>\n",
       "    <tr>\n",
       "      <th>2</th>\n",
       "      <td>153441.51</td>\n",
       "      <td>101145.55</td>\n",
       "      <td>407934.54</td>\n",
       "      <td>191050.39</td>\n",
       "      <td>0</td>\n",
       "      <td>1</td>\n",
       "      <td>0</td>\n",
       "    </tr>\n",
       "    <tr>\n",
       "      <th>3</th>\n",
       "      <td>144372.41</td>\n",
       "      <td>118671.85</td>\n",
       "      <td>383199.62</td>\n",
       "      <td>182901.99</td>\n",
       "      <td>0</td>\n",
       "      <td>0</td>\n",
       "      <td>1</td>\n",
       "    </tr>\n",
       "    <tr>\n",
       "      <th>4</th>\n",
       "      <td>142107.34</td>\n",
       "      <td>91391.77</td>\n",
       "      <td>366168.42</td>\n",
       "      <td>166187.94</td>\n",
       "      <td>0</td>\n",
       "      <td>1</td>\n",
       "      <td>0</td>\n",
       "    </tr>\n",
       "  </tbody>\n",
       "</table>\n",
       "</div>"
      ],
      "text/plain": [
       "    RD_Spend  Administration  Marketing_Spend     Profit  State_California  \\\n",
       "0  165349.20       136897.80        471784.10  192261.83                 0   \n",
       "1  162597.70       151377.59        443898.53  191792.06                 1   \n",
       "2  153441.51       101145.55        407934.54  191050.39                 0   \n",
       "3  144372.41       118671.85        383199.62  182901.99                 0   \n",
       "4  142107.34        91391.77        366168.42  166187.94                 0   \n",
       "\n",
       "   State_Florida  State_New_York  \n",
       "0              0               1  \n",
       "1              0               0  \n",
       "2              1               0  \n",
       "3              0               1  \n",
       "4              1               0  "
      ]
     },
     "execution_count": 101,
     "metadata": {},
     "output_type": "execute_result"
    }
   ],
   "source": [
    "train.rename(columns={'Marketing Spend':'Marketing_Spend'}, inplace = True)\n",
    "train.rename(columns={'R&D Spend':'RD_Spend'}, inplace=True)\n",
    "train.rename(columns={'State_New York':'State_New_York'}, inplace=True)\n",
    "train.head()"
   ]
  },
  {
   "cell_type": "code",
   "execution_count": 105,
   "id": "550ec21a-2e4f-45ea-b4e1-cf6e094dec7d",
   "metadata": {},
   "outputs": [
    {
     "data": {
      "text/html": [
       "<div>\n",
       "<style scoped>\n",
       "    .dataframe tbody tr th:only-of-type {\n",
       "        vertical-align: middle;\n",
       "    }\n",
       "\n",
       "    .dataframe tbody tr th {\n",
       "        vertical-align: top;\n",
       "    }\n",
       "\n",
       "    .dataframe thead th {\n",
       "        text-align: right;\n",
       "    }\n",
       "</style>\n",
       "<table border=\"1\" class=\"dataframe\">\n",
       "  <thead>\n",
       "    <tr style=\"text-align: right;\">\n",
       "      <th></th>\n",
       "      <th>RD_Spend</th>\n",
       "      <th>Administration</th>\n",
       "      <th>Marketing_Spend</th>\n",
       "      <th>Profit</th>\n",
       "      <th>State_California</th>\n",
       "      <th>State_Florida</th>\n",
       "      <th>State_New_York</th>\n",
       "    </tr>\n",
       "  </thead>\n",
       "  <tbody>\n",
       "    <tr>\n",
       "      <th>0</th>\n",
       "      <td>2.016411</td>\n",
       "      <td>0.560753</td>\n",
       "      <td>2.153943</td>\n",
       "      <td>2.011203</td>\n",
       "      <td>-0.717741</td>\n",
       "      <td>-0.685994</td>\n",
       "      <td>1.393261</td>\n",
       "    </tr>\n",
       "    <tr>\n",
       "      <th>1</th>\n",
       "      <td>1.955860</td>\n",
       "      <td>1.082807</td>\n",
       "      <td>1.923600</td>\n",
       "      <td>1.999430</td>\n",
       "      <td>1.393261</td>\n",
       "      <td>-0.685994</td>\n",
       "      <td>-0.717741</td>\n",
       "    </tr>\n",
       "    <tr>\n",
       "      <th>2</th>\n",
       "      <td>1.754364</td>\n",
       "      <td>-0.728257</td>\n",
       "      <td>1.626528</td>\n",
       "      <td>1.980842</td>\n",
       "      <td>-0.717741</td>\n",
       "      <td>1.457738</td>\n",
       "      <td>-0.717741</td>\n",
       "    </tr>\n",
       "    <tr>\n",
       "      <th>3</th>\n",
       "      <td>1.554784</td>\n",
       "      <td>-0.096365</td>\n",
       "      <td>1.422210</td>\n",
       "      <td>1.776627</td>\n",
       "      <td>-0.717741</td>\n",
       "      <td>-0.685994</td>\n",
       "      <td>1.393261</td>\n",
       "    </tr>\n",
       "    <tr>\n",
       "      <th>4</th>\n",
       "      <td>1.504937</td>\n",
       "      <td>-1.079919</td>\n",
       "      <td>1.281528</td>\n",
       "      <td>1.357740</td>\n",
       "      <td>-0.717741</td>\n",
       "      <td>1.457738</td>\n",
       "      <td>-0.717741</td>\n",
       "    </tr>\n",
       "  </tbody>\n",
       "</table>\n",
       "</div>"
      ],
      "text/plain": [
       "   RD_Spend  Administration  Marketing_Spend    Profit  State_California  \\\n",
       "0  2.016411        0.560753         2.153943  2.011203         -0.717741   \n",
       "1  1.955860        1.082807         1.923600  1.999430          1.393261   \n",
       "2  1.754364       -0.728257         1.626528  1.980842         -0.717741   \n",
       "3  1.554784       -0.096365         1.422210  1.776627         -0.717741   \n",
       "4  1.504937       -1.079919         1.281528  1.357740         -0.717741   \n",
       "\n",
       "   State_Florida  State_New_York  \n",
       "0      -0.685994        1.393261  \n",
       "1      -0.685994       -0.717741  \n",
       "2       1.457738       -0.717741  \n",
       "3      -0.685994        1.393261  \n",
       "4       1.457738       -0.717741  "
      ]
     },
     "execution_count": 105,
     "metadata": {},
     "output_type": "execute_result"
    }
   ],
   "source": [
    "#Standard Scaler train and test\n",
    "sc = StandardScaler()\n",
    "train_sc = sc.fit_transform(train)\n",
    "train_sc = pd.DataFrame(train_sc, columns = train.columns)\n",
    "train_sc.head()\n",
    "\n",
    "#from sklearn.preprocessing import StandartScaler\n",
    "#sc = StandartScaler()\n",
    "#test_sc = sc.fit_transform(test)\n",
    "#test_sc = pd.DataFrame(test_sc)"
   ]
  },
  {
   "cell_type": "code",
   "execution_count": 120,
   "id": "e8c6e82a-d54a-4053-836f-45c7f30a67f7",
   "metadata": {},
   "outputs": [],
   "source": [
    "## creating datasets for ML part\n",
    "## set X for features of scaled train dataset 'train_sc'\n",
    "X = train_sc\n",
    "\n",
    "##set y for the target 'Profit'. Befor made tain=train.drop(columns=['Profit'])\n",
    "y = target\n",
    "\n",
    "##X_Test for features of scaler tesr dataset 'test_sc', base set\n",
    "#X_Test = test"
   ]
  },
  {
   "cell_type": "code",
   "execution_count": 154,
   "id": "015c18eb-14f0-4a13-bb0d-7c9d2c31a551",
   "metadata": {},
   "outputs": [
    {
     "data": {
      "text/plain": [
       "(40, 7)"
      ]
     },
     "execution_count": 154,
     "metadata": {},
     "output_type": "execute_result"
    }
   ],
   "source": [
    "#'train\\test' split\n",
    "X_train, X_test, y_train, y_test = train_test_split(X, y, test_size=0.2, random_state=0)\n",
    "X_train.shape"
   ]
  },
  {
   "cell_type": "code",
   "execution_count": 155,
   "id": "b69fd403-b455-4bf1-8234-08885e170fe3",
   "metadata": {},
   "outputs": [
    {
     "data": {
      "text/plain": [
       "(10, 7)"
      ]
     },
     "execution_count": 155,
     "metadata": {},
     "output_type": "execute_result"
    }
   ],
   "source": [
    "X_test.shape"
   ]
  },
  {
   "cell_type": "markdown",
   "id": "e9374a4d-672d-4708-8c06-70eafa181ed6",
   "metadata": {},
   "source": [
    "### Part 4: Machine Learning\n",
    "\n",
    "ML models(linear regression, gradient boosting regression), build, train, evaluate and visualiuse models, creating final predictions with test set, model comparison."
   ]
  },
  {
   "cell_type": "code",
   "execution_count": 156,
   "id": "c1b8c23e-8c88-4f88-a5ae-866a35de59a1",
   "metadata": {},
   "outputs": [
    {
     "data": {
      "text/plain": [
       "array([103282.38, 144259.4 , 146121.95,  77798.83, 191050.39, 105008.31,\n",
       "        81229.06,  97483.56, 110352.25, 166187.94])"
      ]
     },
     "execution_count": 156,
     "metadata": {},
     "output_type": "execute_result"
    }
   ],
   "source": [
    "#Linear regression model\n",
    "LR = LinearRegression()\n",
    "\n",
    "#Model Training\n",
    "LR.fit(X_train, y_train)\n",
    "\n",
    "#Model Prediction\n",
    "LR_pred = LR.predict(X_test)\n",
    "LR_pred"
   ]
  },
  {
   "cell_type": "code",
   "execution_count": 168,
   "id": "b4403e8b-6cac-4642-88ac-ce5a8b9fc543",
   "metadata": {},
   "outputs": [
    {
     "data": {
      "text/plain": [
       "28    103282.38\n",
       "11    144259.40\n",
       "10    146121.95\n",
       "41     77798.83\n",
       "2     191050.39\n",
       "27    105008.31\n",
       "38     81229.06\n",
       "31     97483.56\n",
       "22    110352.25\n",
       "4     166187.94\n",
       "Name: Profit, dtype: float64"
      ]
     },
     "execution_count": 168,
     "metadata": {},
     "output_type": "execute_result"
    }
   ],
   "source": [
    "y_test"
   ]
  },
  {
   "cell_type": "code",
   "execution_count": 172,
   "id": "686d8ccc-11d5-43ba-b922-41d7aab75124",
   "metadata": {},
   "outputs": [],
   "source": [
    "#Model R2 score\n",
    "LRscore = LR.score(X_test, y_test)"
   ]
  },
  {
   "cell_type": "code",
   "execution_count": 158,
   "id": "2d6d204b-5784-4016-a342-f3ab2677ebae",
   "metadata": {},
   "outputs": [
    {
     "data": {
      "text/html": [
       "<div>\n",
       "<style scoped>\n",
       "    .dataframe tbody tr th:only-of-type {\n",
       "        vertical-align: middle;\n",
       "    }\n",
       "\n",
       "    .dataframe tbody tr th {\n",
       "        vertical-align: top;\n",
       "    }\n",
       "\n",
       "    .dataframe thead th {\n",
       "        text-align: right;\n",
       "    }\n",
       "</style>\n",
       "<table border=\"1\" class=\"dataframe\">\n",
       "  <thead>\n",
       "    <tr style=\"text-align: right;\">\n",
       "      <th></th>\n",
       "      <th>Model</th>\n",
       "      <th>r2score</th>\n",
       "      <th>MAE</th>\n",
       "      <th>MSE</th>\n",
       "      <th>RMSE</th>\n",
       "      <th>MSLE</th>\n",
       "      <th>RMSLE</th>\n",
       "    </tr>\n",
       "  </thead>\n",
       "  <tbody>\n",
       "    <tr>\n",
       "      <th>1</th>\n",
       "      <td>Linear Regression</td>\n",
       "      <td>1.0</td>\n",
       "      <td>2.619345e-11</td>\n",
       "      <td>1.143494e-21</td>\n",
       "      <td>3.381560e-11</td>\n",
       "      <td>6.310887e-31</td>\n",
       "      <td>7.944109e-16</td>\n",
       "    </tr>\n",
       "  </tbody>\n",
       "</table>\n",
       "</div>"
      ],
      "text/plain": [
       "               Model  r2score           MAE           MSE          RMSE  \\\n",
       "1  Linear Regression      1.0  2.619345e-11  1.143494e-21  3.381560e-11   \n",
       "\n",
       "           MSLE         RMSLE  \n",
       "1  6.310887e-31  7.944109e-16  "
      ]
     },
     "execution_count": 158,
     "metadata": {},
     "output_type": "execute_result"
    }
   ],
   "source": [
    "#Model Metrics\n",
    "LRMetrics = pd.DataFrame({'Model': 'Linear Regression',\n",
    "                         'r2score': r2_score(y_test, LR_pred),\n",
    "                         'MAE': metrics.mean_absolute_error (y_test,LR_pred),\n",
    "                         'MSE': metrics.mean_squared_error(y_test,LR_pred),\n",
    "                         'RMSE': np.sqrt(metrics.mean_squared_error(y_test,LR_pred)),\n",
    "                         'MSLE': metrics.mean_squared_log_error(y_test,LR_pred),\n",
    "                         'RMSLE':np.sqrt(metrics.mean_squared_log_error(y_test,LR_pred))             \n",
    "                          },index=[1])\n",
    "\n",
    "LRMetrics"
   ]
  },
  {
   "cell_type": "code",
   "execution_count": 174,
   "id": "34dcfffd-af3b-43c6-a5ef-b55b23dadcd3",
   "metadata": {},
   "outputs": [
    {
     "data": {
      "text/plain": [
       "<seaborn.axisgrid.FacetGrid at 0x168301160>"
      ]
     },
     "execution_count": 174,
     "metadata": {},
     "output_type": "execute_result"
    },
    {
     "data": {
      "image/png": "[encoded data removed]",
      "text/plain": [
       "<Figure size 360x360 with 1 Axes>"
      ]
     },
     "metadata": {
      "needs_background": "light"
     },
     "output_type": "display_data"
    }
   ],
   "source": [
    "sn.displot(LR_pred - y_test)"
   ]
  },
  {
   "cell_type": "code",
   "execution_count": 159,
   "id": "62c1543b-d272-4315-a2c4-99757d77dad9",
   "metadata": {},
   "outputs": [
    {
     "data": {
      "image/png": "[encoded data removed]",
      "text/plain": [
       "<Figure size 720x360 with 1 Axes>"
      ]
     },
     "metadata": {
      "needs_background": "light"
     },
     "output_type": "display_data"
    }
   ],
   "source": [
    "#Visualisation  of Train dataset predictions\n",
    "#plot outputs\n",
    "plt.figure(figsize=(10,5))\n",
    "pl.plot(y_test, LR_pred, 'ro')\n",
    "pl.plot([0,200000],[0,200000],'b-')\n",
    "pl.xlabel('Predicted Profit')\n",
    "pl.ylabel('Profit')\n",
    "pl.show()"
   ]
  },
  {
   "cell_type": "code",
   "execution_count": 160,
   "id": "a1ecb08b-4ad5-450b-9fc6-d854acc943f9",
   "metadata": {},
   "outputs": [],
   "source": [
    "#Gradient Boosting Regressor model\n",
    "GB = GradientBoostingRegressor(random_state=0)\n",
    "\n",
    "#Model Training\n",
    "GB.fit(X_train, y_train)\n",
    "\n",
    "#Model Prediction\n",
    "GB_pred = GB.predict(X_test)\n",
    "\n",
    "#Model R2 score\n",
    "GBscrore = GB.score(X_test, y_test)"
   ]
  },
  {
   "cell_type": "code",
   "execution_count": 161,
   "id": "d5e09c13-baa5-4738-8dd9-71453178ec77",
   "metadata": {},
   "outputs": [
    {
     "data": {
      "text/html": [
       "<div>\n",
       "<style scoped>\n",
       "    .dataframe tbody tr th:only-of-type {\n",
       "        vertical-align: middle;\n",
       "    }\n",
       "\n",
       "    .dataframe tbody tr th {\n",
       "        vertical-align: top;\n",
       "    }\n",
       "\n",
       "    .dataframe thead th {\n",
       "        text-align: right;\n",
       "    }\n",
       "</style>\n",
       "<table border=\"1\" class=\"dataframe\">\n",
       "  <thead>\n",
       "    <tr style=\"text-align: right;\">\n",
       "      <th></th>\n",
       "      <th>Model</th>\n",
       "      <th>r2score</th>\n",
       "      <th>MAE</th>\n",
       "      <th>MSE</th>\n",
       "      <th>RMSE</th>\n",
       "      <th>MSLE</th>\n",
       "      <th>RMSLE</th>\n",
       "    </tr>\n",
       "  </thead>\n",
       "  <tbody>\n",
       "    <tr>\n",
       "      <th>2</th>\n",
       "      <td>Gradient Boosting Regressor</td>\n",
       "      <td>0.994493</td>\n",
       "      <td>2076.263583</td>\n",
       "      <td>7.043014e+06</td>\n",
       "      <td>2653.867759</td>\n",
       "      <td>0.00062</td>\n",
       "      <td>0.024898</td>\n",
       "    </tr>\n",
       "  </tbody>\n",
       "</table>\n",
       "</div>"
      ],
      "text/plain": [
       "                         Model   r2score          MAE           MSE  \\\n",
       "2  Gradient Boosting Regressor  0.994493  2076.263583  7.043014e+06   \n",
       "\n",
       "          RMSE     MSLE     RMSLE  \n",
       "2  2653.867759  0.00062  0.024898  "
      ]
     },
     "execution_count": 161,
     "metadata": {},
     "output_type": "execute_result"
    }
   ],
   "source": [
    "\n",
    "# Model Metrics\n",
    "GBMetrics = pd.DataFrame({'Model': 'Gradient Boosting Regressor',\n",
    "                          'r2score':r2_score(y_test,GB_pred),\n",
    "                          'MAE': metrics.mean_absolute_error (y_test,GB_pred),\n",
    "                          'MSE': metrics.mean_squared_error(y_test,GB_pred),\n",
    "                          'RMSE': np.sqrt(metrics.mean_squared_error(y_test,GB_pred)),\n",
    "                          'MSLE': metrics.mean_squared_log_error(y_test,GB_pred),\n",
    "                          'RMSLE':np.sqrt(metrics.mean_squared_log_error(y_test,GB_pred))             \n",
    "                          },index=[2])\n",
    "\n",
    "GBMetrics"
   ]
  },
  {
   "cell_type": "code",
   "execution_count": 162,
   "id": "3730c3f9-1d09-4d6e-8f44-b1388fdb8a9b",
   "metadata": {},
   "outputs": [
    {
     "data": {
      "image/png": "[encoded data removed]",
      "text/plain": [
       "<Figure size 576x360 with 1 Axes>"
      ]
     },
     "metadata": {
      "needs_background": "light"
     },
     "output_type": "display_data"
    }
   ],
   "source": [
    "# visualisation of Test dataset predictions\n",
    "\n",
    "# Plot outputs\n",
    "plt.figure(figsize=(8,5))\n",
    "pl.plot(y_test, GB_pred,'ro')\n",
    "pl.plot([0,200000],[0,200000], 'b-')\n",
    "pl.xlabel('Predicted Profit')\n",
    "pl.ylabel('Profit')\n",
    "pl.show()"
   ]
  },
  {
   "cell_type": "code",
   "execution_count": 164,
   "id": "574a8212-bcaa-4c5b-96bb-4302691c8902",
   "metadata": {},
   "outputs": [
    {
     "data": {
      "text/html": [
       "<div>\n",
       "<style scoped>\n",
       "    .dataframe tbody tr th:only-of-type {\n",
       "        vertical-align: middle;\n",
       "    }\n",
       "\n",
       "    .dataframe tbody tr th {\n",
       "        vertical-align: top;\n",
       "    }\n",
       "\n",
       "    .dataframe thead th {\n",
       "        text-align: right;\n",
       "    }\n",
       "</style>\n",
       "<table border=\"1\" class=\"dataframe\">\n",
       "  <thead>\n",
       "    <tr style=\"text-align: right;\">\n",
       "      <th></th>\n",
       "      <th>Model</th>\n",
       "      <th>r2score</th>\n",
       "      <th>MAE</th>\n",
       "      <th>MSE</th>\n",
       "      <th>RMSE</th>\n",
       "      <th>MSLE</th>\n",
       "      <th>RMSLE</th>\n",
       "    </tr>\n",
       "  </thead>\n",
       "  <tbody>\n",
       "    <tr>\n",
       "      <th>1</th>\n",
       "      <td>Linear Regression</td>\n",
       "      <td>1.000000</td>\n",
       "      <td>3.917823e-11</td>\n",
       "      <td>1.808090e-21</td>\n",
       "      <td>4.252164e-11</td>\n",
       "      <td>7.281793e-31</td>\n",
       "      <td>8.533342e-16</td>\n",
       "    </tr>\n",
       "    <tr>\n",
       "      <th>2</th>\n",
       "      <td>Gradient Boosting Regressor</td>\n",
       "      <td>0.994493</td>\n",
       "      <td>2.076264e+03</td>\n",
       "      <td>7.043014e+06</td>\n",
       "      <td>2.653868e+03</td>\n",
       "      <td>6.198917e-04</td>\n",
       "      <td>2.489762e-02</td>\n",
       "    </tr>\n",
       "  </tbody>\n",
       "</table>\n",
       "</div>"
      ],
      "text/plain": [
       "                         Model   r2score           MAE           MSE  \\\n",
       "1            Linear Regression  1.000000  3.917823e-11  1.808090e-21   \n",
       "2  Gradient Boosting Regressor  0.994493  2.076264e+03  7.043014e+06   \n",
       "\n",
       "           RMSE          MSLE         RMSLE  \n",
       "1  4.252164e-11  7.281793e-31  8.533342e-16  \n",
       "2  2.653868e+03  6.198917e-04  2.489762e-02  "
      ]
     },
     "execution_count": 164,
     "metadata": {},
     "output_type": "execute_result"
    }
   ],
   "source": [
    "#Model comparison\n",
    "#score comparison of models\n",
    "frames = [LRMertics, GBMetrics]\n",
    "TrainingResult = pd.concat(frames)\n",
    "TrainingResult"
   ]
  },
  {
   "cell_type": "code",
   "execution_count": 167,
   "id": "c8216089-0571-4d22-b5be-a15bc16d1476",
   "metadata": {},
   "outputs": [
    {
     "data": {
      "text/html": [
       "<style  type=\"text/css\" >\n",
       "#T_45b3d_row0_col0,#T_45b3d_row0_col1,#T_45b3d_row0_col2{\n",
       "            background-color:  #cbdef1;\n",
       "            color:  #000000;\n",
       "        }#T_45b3d_row1_col0,#T_45b3d_row1_col1{\n",
       "            background-color:  #4e9acb;\n",
       "            color:  #000000;\n",
       "        }#T_45b3d_row1_col2{\n",
       "            background-color:  #4b98ca;\n",
       "            color:  #000000;\n",
       "        }#T_45b3d_row2_col0,#T_45b3d_row2_col1{\n",
       "            background-color:  #4997c9;\n",
       "            color:  #000000;\n",
       "        }#T_45b3d_row2_col2{\n",
       "            background-color:  #4493c7;\n",
       "            color:  #000000;\n",
       "        }#T_45b3d_row3_col0,#T_45b3d_row3_col1,#T_45b3d_row6_col2{\n",
       "            background-color:  #f7fbff;\n",
       "            color:  #000000;\n",
       "        }#T_45b3d_row3_col2{\n",
       "            background-color:  #f4f9fe;\n",
       "            color:  #000000;\n",
       "        }#T_45b3d_row4_col0,#T_45b3d_row4_col1,#T_45b3d_row4_col2{\n",
       "            background-color:  #08306b;\n",
       "            color:  #f1f1f1;\n",
       "        }#T_45b3d_row5_col0,#T_45b3d_row5_col1{\n",
       "            background-color:  #c8dcf0;\n",
       "            color:  #000000;\n",
       "        }#T_45b3d_row5_col2{\n",
       "            background-color:  #c1d9ed;\n",
       "            color:  #000000;\n",
       "        }#T_45b3d_row6_col0,#T_45b3d_row6_col1{\n",
       "            background-color:  #f2f7fd;\n",
       "            color:  #000000;\n",
       "        }#T_45b3d_row7_col0,#T_45b3d_row7_col1{\n",
       "            background-color:  #d5e5f4;\n",
       "            color:  #000000;\n",
       "        }#T_45b3d_row7_col2{\n",
       "            background-color:  #d1e2f3;\n",
       "            color:  #000000;\n",
       "        }#T_45b3d_row8_col0,#T_45b3d_row8_col1{\n",
       "            background-color:  #bad6eb;\n",
       "            color:  #000000;\n",
       "        }#T_45b3d_row8_col2{\n",
       "            background-color:  #b0d2e7;\n",
       "            color:  #000000;\n",
       "        }#T_45b3d_row9_col0,#T_45b3d_row9_col1{\n",
       "            background-color:  #1b69af;\n",
       "            color:  #f1f1f1;\n",
       "        }#T_45b3d_row9_col2{\n",
       "            background-color:  #1764ab;\n",
       "            color:  #f1f1f1;\n",
       "        }</style><table id=\"T_45b3d_\" ><thead>    <tr>        <th class=\"blank level0\" ></th>        <th class=\"col_heading level0 col0\" >Actual Profit</th>        <th class=\"col_heading level0 col1\" >LR Predicted Profit</th>        <th class=\"col_heading level0 col2\" >GB Predicted Profit</th>    </tr></thead><tbody>\n",
       "                <tr>\n",
       "                        <th id=\"T_45b3d_level0_row0\" class=\"row_heading level0 row0\" >28</th>\n",
       "                        <td id=\"T_45b3d_row0_col0\" class=\"data row0 col0\" >103282.380000</td>\n",
       "                        <td id=\"T_45b3d_row0_col1\" class=\"data row0 col1\" >103282.380000</td>\n",
       "                        <td id=\"T_45b3d_row0_col2\" class=\"data row0 col2\" >101004.861567</td>\n",
       "            </tr>\n",
       "            <tr>\n",
       "                        <th id=\"T_45b3d_level0_row1\" class=\"row_heading level0 row1\" >11</th>\n",
       "                        <td id=\"T_45b3d_row1_col0\" class=\"data row1 col0\" >144259.400000</td>\n",
       "                        <td id=\"T_45b3d_row1_col1\" class=\"data row1 col1\" >144259.400000</td>\n",
       "                        <td id=\"T_45b3d_row1_col2\" class=\"data row1 col2\" >141584.531824</td>\n",
       "            </tr>\n",
       "            <tr>\n",
       "                        <th id=\"T_45b3d_level0_row2\" class=\"row_heading level0 row2\" >10</th>\n",
       "                        <td id=\"T_45b3d_row2_col0\" class=\"data row2 col0\" >146121.950000</td>\n",
       "                        <td id=\"T_45b3d_row2_col1\" class=\"data row2 col1\" >146121.950000</td>\n",
       "                        <td id=\"T_45b3d_row2_col2\" class=\"data row2 col2\" >144443.374291</td>\n",
       "            </tr>\n",
       "            <tr>\n",
       "                        <th id=\"T_45b3d_level0_row3\" class=\"row_heading level0 row3\" >41</th>\n",
       "                        <td id=\"T_45b3d_row3_col0\" class=\"data row3 col0\" >77798.830000</td>\n",
       "                        <td id=\"T_45b3d_row3_col1\" class=\"data row3 col1\" >77798.830000</td>\n",
       "                        <td id=\"T_45b3d_row3_col2\" class=\"data row3 col2\" >78240.882542</td>\n",
       "            </tr>\n",
       "            <tr>\n",
       "                        <th id=\"T_45b3d_level0_row4\" class=\"row_heading level0 row4\" >2</th>\n",
       "                        <td id=\"T_45b3d_row4_col0\" class=\"data row4 col0\" >191050.390000</td>\n",
       "                        <td id=\"T_45b3d_row4_col1\" class=\"data row4 col1\" >191050.390000</td>\n",
       "                        <td id=\"T_45b3d_row4_col2\" class=\"data row4 col2\" >186309.136256</td>\n",
       "            </tr>\n",
       "            <tr>\n",
       "                        <th id=\"T_45b3d_level0_row5\" class=\"row_heading level0 row5\" >27</th>\n",
       "                        <td id=\"T_45b3d_row5_col0\" class=\"data row5 col0\" >105008.310000</td>\n",
       "                        <td id=\"T_45b3d_row5_col1\" class=\"data row5 col1\" >105008.310000</td>\n",
       "                        <td id=\"T_45b3d_row5_col2\" class=\"data row5 col2\" >105733.921037</td>\n",
       "            </tr>\n",
       "            <tr>\n",
       "                        <th id=\"T_45b3d_level0_row6\" class=\"row_heading level0 row6\" >38</th>\n",
       "                        <td id=\"T_45b3d_row6_col0\" class=\"data row6 col0\" >81229.060000</td>\n",
       "                        <td id=\"T_45b3d_row6_col1\" class=\"data row6 col1\" >81229.060000</td>\n",
       "                        <td id=\"T_45b3d_row6_col2\" class=\"data row6 col2\" >76089.844840</td>\n",
       "            </tr>\n",
       "            <tr>\n",
       "                        <th id=\"T_45b3d_level0_row7\" class=\"row_heading level0 row7\" >31</th>\n",
       "                        <td id=\"T_45b3d_row7_col0\" class=\"data row7 col0\" >97483.560000</td>\n",
       "                        <td id=\"T_45b3d_row7_col1\" class=\"data row7 col1\" >97483.560000</td>\n",
       "                        <td id=\"T_45b3d_row7_col2\" class=\"data row7 col2\" >97428.067844</td>\n",
       "            </tr>\n",
       "            <tr>\n",
       "                        <th id=\"T_45b3d_level0_row8\" class=\"row_heading level0 row8\" >22</th>\n",
       "                        <td id=\"T_45b3d_row8_col0\" class=\"data row8 col0\" >110352.250000</td>\n",
       "                        <td id=\"T_45b3d_row8_col1\" class=\"data row8 col1\" >110352.250000</td>\n",
       "                        <td id=\"T_45b3d_row8_col2\" class=\"data row8 col2\" >111134.853319</td>\n",
       "            </tr>\n",
       "            <tr>\n",
       "                        <th id=\"T_45b3d_level0_row9\" class=\"row_heading level0 row9\" >4</th>\n",
       "                        <td id=\"T_45b3d_row9_col0\" class=\"data row9 col0\" >166187.940000</td>\n",
       "                        <td id=\"T_45b3d_row9_col1\" class=\"data row9 col1\" >166187.940000</td>\n",
       "                        <td id=\"T_45b3d_row9_col2\" class=\"data row9 col2\" >163942.494441</td>\n",
       "            </tr>\n",
       "    </tbody></table>"
      ],
      "text/plain": [
       "<pandas.io.formats.style.Styler at 0x168301460>"
      ]
     },
     "execution_count": 167,
     "metadata": {},
     "output_type": "execute_result"
    }
   ],
   "source": [
    "# comparison between Actual 'Profit' from Train dataset abd Predicted 'Profit' from Test dataset\n",
    "actualvspredicted = pd.DataFrame({\"Actual Profit\":y_test,\"LR Predicted Profit\":LR_pred, \"GB Predicted Profit\":GB_pred})\n",
    "actualvspredicted.head(10).style.background_gradient(cmap='Blues')"
   ]
  },
  {
   "cell_type": "markdown",
   "id": "140a92ab-8db4-49ae-93e1-8a934757edcb",
   "metadata": {},
   "source": [
    "##### Result The best model is ... with R2 score = ..."
   ]
  },
  {
   "cell_type": "markdown",
   "id": "a0e6b00e-30fd-4c39-aa5e-93bb0b2c99e0",
   "metadata": {},
   "source": [
    "### Conclusion\n",
    "\n",
    "Submission of file with prediction"
   ]
  },
  {
   "cell_type": "code",
   "execution_count": 165,
   "id": "b608a9ea-0647-4ccc-b089-3ac07a8fb2b7",
   "metadata": {},
   "outputs": [],
   "source": [
    "#submission\n",
    "#sub = pd.DataFrame()\n",
    "#sub['ID'] = test.index\n",
    "#sub['Profit'] = GB_pred1\n",
    "#sub.to_csv('StartupPredictions.csv', index=False)"
   ]
  }
 ],
 "metadata": {
  "kernelspec": {
   "display_name": "Python 3",
   "language": "python",
   "name": "python3"
  },
  "language_info": {
   "codemirror_mode": {
    "name": "ipython",
    "version": 3
   },
   "file_extension": ".py",
   "mimetype": "text/x-python",
   "name": "python",
   "nbconvert_exporter": "python",
   "pygments_lexer": "ipython3",
   "version": "3.8.10"
  }
 },
 "nbformat": 4,
 "nbformat_minor": 5
}
