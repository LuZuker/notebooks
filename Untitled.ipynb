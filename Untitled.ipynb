{
 "cells": [
  {
   "cell_type": "code",
   "execution_count": 1,
   "metadata": {},
   "outputs": [
    {
     "output_type": "stream",
     "name": "stdout",
     "text": [
      "test\n"
     ]
    }
   ],
   "source": [
    "print(\"test\")"
   ]
  },
  {
   "cell_type": "code",
   "execution_count": null,
   "metadata": {},
   "outputs": [],
   "source": []
  }
 ],
 "metadata": {
  "kernelspec": {
   "name": "pythonjvsc74a57bd0dd851fff0403aa4f1e2ce520c732bdac8210721095c2603dd9e10da783cb01f3",
   "display_name": "Python 3.8.2  ('venv': venv)"
  },
  "metadata": {
   "interpreter": {
    "hash": "dd851fff0403aa4f1e2ce520c732bdac8210721095c2603dd9e10da783cb01f3"
   }
  }
 },
 "nbformat": 4,
 "nbformat_minor": 5
}