{
 "cells": [
  {
   "cell_type": "code",
   "execution_count": 52,
   "id": "e6b9fcae-3353-4121-83ec-2ea3d6206c31",
   "metadata": {},
   "outputs": [],
   "source": [
    "#import standard libraries\n",
    "import numpy as np\n",
    "import pandas as pd\n",
    "import seaborn as sn\n",
    "import matplotlib.pyplot as plt\n",
    "import pylab as pl\n",
    "from scipy import stats\n",
    "\n",
    "import statsmodels.api as sm  #for backward Elimination\n",
    "\n",
    "#import model and metrics\n",
    "from sklearn.compose import ColumnTransformer\n",
    "from sklearn.preprocessing import OneHotEncoder\n",
    "from sklearn.model_selection import train_test_split\n",
    "from sklearn.linear_model import LinearRegression"
   ]
  },
  {
   "cell_type": "code",
   "execution_count": 43,
   "id": "1e11d1d2-8553-4b26-bd66-36a9a18c7aea",
   "metadata": {},
   "outputs": [],
   "source": [
    "dataset = pd.read_csv('50_Startups.csv')\n",
    "X= dataset.iloc[:, :-1].values #features\n",
    "y=dataset.iloc[:, -1].values #target"
   ]
  },
  {
   "cell_type": "code",
   "execution_count": 44,
   "id": "25f5e7d4-5438-445f-b3d1-05957afd57a4",
   "metadata": {},
   "outputs": [
    {
     "data": {
      "text/plain": [
       "array([[165349.2, 136897.8, 471784.1, 'New York'],\n",
       "       [162597.7, 151377.59, 443898.53, 'California'],\n",
       "       [153441.51, 101145.55, 407934.54, 'Florida'],\n",
       "       [144372.41, 118671.85, 383199.62, 'New York'],\n",
       "       [142107.34, 91391.77, 366168.42, 'Florida']], dtype=object)"
      ]
     },
     "execution_count": 44,
     "metadata": {},
     "output_type": "execute_result"
    }
   ],
   "source": [
    "X[:5]"
   ]
  },
  {
   "cell_type": "code",
   "execution_count": 45,
   "id": "8dad9d77-5a2a-4b59-ba42-e5e4b62af0ab",
   "metadata": {},
   "outputs": [],
   "source": [
    "#don't need to del the one dummy variable (0 or 1) column, but for other model we need to use n-1 dummy column\n",
    "\n",
    "ct = ColumnTransformer(transformers=[('encoder', OneHotEncoder(drop='first'), [3])], remainder='passthrough')\n",
    "X = np.array(ct.fit_transform(X))\n"
   ]
  },
  {
   "cell_type": "code",
   "execution_count": 46,
   "id": "5185de00-c46f-4627-8437-ee9ccb01f0e6",
   "metadata": {},
   "outputs": [
    {
     "name": "stdout",
     "output_type": "stream",
     "text": [
      "[[0.0 1.0 165349.2 136897.8 471784.1]\n",
      " [0.0 0.0 162597.7 151377.59 443898.53]\n",
      " [1.0 0.0 153441.51 101145.55 407934.54]\n",
      " [0.0 1.0 144372.41 118671.85 383199.62]\n",
      " [1.0 0.0 142107.34 91391.77 366168.42]\n",
      " [0.0 1.0 131876.9 99814.71 362861.36]\n",
      " [0.0 0.0 134615.46 147198.87 127716.82]\n",
      " [1.0 0.0 130298.13 145530.06 323876.68]\n",
      " [0.0 1.0 120542.52 148718.95 311613.29]\n",
      " [0.0 0.0 123334.88 108679.17 304981.62]\n",
      " [1.0 0.0 101913.08 110594.11 229160.95]\n",
      " [0.0 0.0 100671.96 91790.61 249744.55]\n",
      " [1.0 0.0 93863.75 127320.38 249839.44]\n",
      " [0.0 0.0 91992.39 135495.07 252664.93]\n",
      " [1.0 0.0 119943.24 156547.42 256512.92]\n",
      " [0.0 1.0 114523.61 122616.84 261776.23]\n",
      " [0.0 0.0 78013.11 121597.55 264346.06]\n",
      " [0.0 1.0 94657.16 145077.58 282574.31]\n",
      " [1.0 0.0 91749.16 114175.79 294919.57]\n",
      " [0.0 1.0 86419.7 153514.11 0.0]\n",
      " [0.0 0.0 76253.86 113867.3 298664.47]\n",
      " [0.0 1.0 78389.47 153773.43 299737.29]\n",
      " [1.0 0.0 73994.56 122782.75 303319.26]\n",
      " [1.0 0.0 67532.53 105751.03 304768.73]\n",
      " [0.0 1.0 77044.01 99281.34 140574.81]\n",
      " [0.0 0.0 64664.71 139553.16 137962.62]\n",
      " [1.0 0.0 75328.87 144135.98 134050.07]\n",
      " [0.0 1.0 72107.6 127864.55 353183.81]\n",
      " [1.0 0.0 66051.52 182645.56 118148.2]\n",
      " [0.0 1.0 65605.48 153032.06 107138.38]\n",
      " [1.0 0.0 61994.48 115641.28 91131.24]\n",
      " [0.0 1.0 61136.38 152701.92 88218.23]\n",
      " [0.0 0.0 63408.86 129219.61 46085.25]\n",
      " [1.0 0.0 55493.95 103057.49 214634.81]\n",
      " [0.0 0.0 46426.07 157693.92 210797.67]\n",
      " [0.0 1.0 46014.02 85047.44 205517.64]\n",
      " [1.0 0.0 28663.76 127056.21 201126.82]\n",
      " [0.0 0.0 44069.95 51283.14 197029.42]\n",
      " [0.0 1.0 20229.59 65947.93 185265.1]\n",
      " [0.0 0.0 38558.51 82982.09 174999.3]\n",
      " [0.0 0.0 28754.33 118546.05 172795.67]\n",
      " [1.0 0.0 27892.92 84710.77 164470.71]\n",
      " [0.0 0.0 23640.93 96189.63 148001.11]\n",
      " [0.0 1.0 15505.73 127382.3 35534.17]\n",
      " [0.0 0.0 22177.74 154806.14 28334.72]\n",
      " [0.0 1.0 1000.23 124153.04 1903.93]\n",
      " [1.0 0.0 1315.46 115816.21 297114.46]\n",
      " [0.0 0.0 0.0 135426.92 0.0]\n",
      " [0.0 1.0 542.05 51743.15 0.0]\n",
      " [0.0 0.0 0.0 116983.8 45173.06]]\n"
     ]
    }
   ],
   "source": [
    "# always create in the first columns\n",
    "print(X)"
   ]
  },
  {
   "cell_type": "code",
   "execution_count": 47,
   "id": "1050af6b-a259-4e8d-a51d-276040227c29",
   "metadata": {},
   "outputs": [],
   "source": [
    "#spliting dataset into the Traninh and Test set\n",
    "X_train, X_test, y_train, y_test = train_test_split(X, y, test_size = 0.25, random_state = 0)"
   ]
  },
  {
   "cell_type": "code",
   "execution_count": 48,
   "id": "1977b98d-7002-4b32-a5df-943024abc449",
   "metadata": {},
   "outputs": [
    {
     "data": {
      "text/plain": [
       "LinearRegression()"
      ]
     },
     "execution_count": 48,
     "metadata": {},
     "output_type": "execute_result"
    }
   ],
   "source": [
    "#training the Multiple Linear regression model on the training set\n",
    "regr = LinearRegression()\n",
    "regr.fit(X_train, y_train)"
   ]
  },
  {
   "cell_type": "code",
   "execution_count": 49,
   "id": "f4e0d80b-2fcb-4fbf-be15-a8c71921ed90",
   "metadata": {},
   "outputs": [
    {
     "data": {
      "text/plain": [
       "array([104440.73, 132253.82, 132872.07,  71707.79, 178678.99, 115078.13,\n",
       "        66093.93,  98759.73, 114113.6 , 167979.49,  95786.77,  87785.35,\n",
       "       110455.98])"
      ]
     },
     "execution_count": 49,
     "metadata": {},
     "output_type": "execute_result"
    }
   ],
   "source": [
    "#prediction the test set result\n",
    "y_pred = regr.predict(X_test)\n",
    "y_pred"
   ]
  },
  {
   "cell_type": "code",
   "execution_count": 51,
   "id": "1d3f098e-6719-4890-8b2f-1e5d9c0749fa",
   "metadata": {},
   "outputs": [
    {
     "name": "stdout",
     "output_type": "stream",
     "text": [
      "[[104440.73 103282.38]\n",
      " [132253.82 144259.4 ]\n",
      " [132872.07 146121.95]\n",
      " [ 71707.79  77798.83]\n",
      " [178678.99 191050.39]\n",
      " [115078.13 105008.31]\n",
      " [ 66093.93  81229.06]\n",
      " [ 98759.73  97483.56]\n",
      " [114113.6  110352.25]\n",
      " [167979.49 166187.94]\n",
      " [ 95786.77  96778.92]\n",
      " [ 87785.35  96479.51]\n",
      " [110455.98 105733.54]]\n"
     ]
    }
   ],
   "source": [
    "#y_pred is an numpy array of row\n",
    "np.set_printoptions(precision = 2) #only 2 decimals after point\n",
    "print(np.concatenate((y_pred.reshape(len(y_pred),1), y_test.reshape(len(y_test),1)),1))\n",
    "\n",
    "#all the predicted values from model on the left side and real values on the right side"
   ]
  },
  {
   "cell_type": "markdown",
   "id": "8c9c0956-0045-4ace-bd67-788475a133b0",
   "metadata": {},
   "source": [
    "#### Significance level - Backward elimination\n",
    "Backward elimination is a feature selection. It is used to remove those features that do not have a significant effect/level on the dependent variable or prediction of output.\n",
    "\n",
    "You need to add one column of ones in the startinf of the column.\n",
    "You have a P-value = 1 - significance level. If P_value is high significance level is less, you will be deleating features one by one whose P-value is high which means it has less significance level"
   ]
  },
  {
   "cell_type": "code",
   "execution_count": 53,
   "id": "119a23eb-8a92-4668-9447-52d340738c1d",
   "metadata": {},
   "outputs": [
    {
     "name": "stdout",
     "output_type": "stream",
     "text": [
      "[[1.0 0.0 1.0 165349.2 136897.8 471784.1]\n",
      " [1.0 0.0 0.0 162597.7 151377.59 443898.53]\n",
      " [1.0 1.0 0.0 153441.51 101145.55 407934.54]\n",
      " [1.0 0.0 1.0 144372.41 118671.85 383199.62]\n",
      " [1.0 1.0 0.0 142107.34 91391.77 366168.42]\n",
      " [1.0 0.0 1.0 131876.9 99814.71 362861.36]\n",
      " [1.0 0.0 0.0 134615.46 147198.87 127716.82]\n",
      " [1.0 1.0 0.0 130298.13 145530.06 323876.68]\n",
      " [1.0 0.0 1.0 120542.52 148718.95 311613.29]\n",
      " [1.0 0.0 0.0 123334.88 108679.17 304981.62]\n",
      " [1.0 1.0 0.0 101913.08 110594.11 229160.95]\n",
      " [1.0 0.0 0.0 100671.96 91790.61 249744.55]\n",
      " [1.0 1.0 0.0 93863.75 127320.38 249839.44]\n",
      " [1.0 0.0 0.0 91992.39 135495.07 252664.93]\n",
      " [1.0 1.0 0.0 119943.24 156547.42 256512.92]\n",
      " [1.0 0.0 1.0 114523.61 122616.84 261776.23]\n",
      " [1.0 0.0 0.0 78013.11 121597.55 264346.06]\n",
      " [1.0 0.0 1.0 94657.16 145077.58 282574.31]\n",
      " [1.0 1.0 0.0 91749.16 114175.79 294919.57]\n",
      " [1.0 0.0 1.0 86419.7 153514.11 0.0]\n",
      " [1.0 0.0 0.0 76253.86 113867.3 298664.47]\n",
      " [1.0 0.0 1.0 78389.47 153773.43 299737.29]\n",
      " [1.0 1.0 0.0 73994.56 122782.75 303319.26]\n",
      " [1.0 1.0 0.0 67532.53 105751.03 304768.73]\n",
      " [1.0 0.0 1.0 77044.01 99281.34 140574.81]\n",
      " [1.0 0.0 0.0 64664.71 139553.16 137962.62]\n",
      " [1.0 1.0 0.0 75328.87 144135.98 134050.07]\n",
      " [1.0 0.0 1.0 72107.6 127864.55 353183.81]\n",
      " [1.0 1.0 0.0 66051.52 182645.56 118148.2]\n",
      " [1.0 0.0 1.0 65605.48 153032.06 107138.38]\n",
      " [1.0 1.0 0.0 61994.48 115641.28 91131.24]\n",
      " [1.0 0.0 1.0 61136.38 152701.92 88218.23]\n",
      " [1.0 0.0 0.0 63408.86 129219.61 46085.25]\n",
      " [1.0 1.0 0.0 55493.95 103057.49 214634.81]\n",
      " [1.0 0.0 0.0 46426.07 157693.92 210797.67]\n",
      " [1.0 0.0 1.0 46014.02 85047.44 205517.64]\n",
      " [1.0 1.0 0.0 28663.76 127056.21 201126.82]\n",
      " [1.0 0.0 0.0 44069.95 51283.14 197029.42]\n",
      " [1.0 0.0 1.0 20229.59 65947.93 185265.1]\n",
      " [1.0 0.0 0.0 38558.51 82982.09 174999.3]\n",
      " [1.0 0.0 0.0 28754.33 118546.05 172795.67]\n",
      " [1.0 1.0 0.0 27892.92 84710.77 164470.71]\n",
      " [1.0 0.0 0.0 23640.93 96189.63 148001.11]\n",
      " [1.0 0.0 1.0 15505.73 127382.3 35534.17]\n",
      " [1.0 0.0 0.0 22177.74 154806.14 28334.72]\n",
      " [1.0 0.0 1.0 1000.23 124153.04 1903.93]\n",
      " [1.0 1.0 0.0 1315.46 115816.21 297114.46]\n",
      " [1.0 0.0 0.0 0.0 135426.92 0.0]\n",
      " [1.0 0.0 1.0 542.05 51743.15 0.0]\n",
      " [1.0 0.0 0.0 0.0 116983.8 45173.06]]\n"
     ]
    }
   ],
   "source": [
    "#building the optimal model usinf Backward Elimination\n",
    "X = np.append(arr = np.ones((50, 1)).astype(float), values = X, axis = 1)\n",
    "print(X)"
   ]
  },
  {
   "cell_type": "code",
   "execution_count": 55,
   "id": "4dd8d8ab-b7fc-4bbc-8090-bfcec0f3f746",
   "metadata": {},
   "outputs": [
    {
     "data": {
      "text/plain": [
       "array([[1.00e+00, 0.00e+00, 1.00e+00, 1.65e+05, 1.37e+05, 4.72e+05],\n",
       "       [1.00e+00, 0.00e+00, 0.00e+00, 1.63e+05, 1.51e+05, 4.44e+05],\n",
       "       [1.00e+00, 1.00e+00, 0.00e+00, 1.53e+05, 1.01e+05, 4.08e+05],\n",
       "       [1.00e+00, 0.00e+00, 1.00e+00, 1.44e+05, 1.19e+05, 3.83e+05],\n",
       "       [1.00e+00, 1.00e+00, 0.00e+00, 1.42e+05, 9.14e+04, 3.66e+05],\n",
       "       [1.00e+00, 0.00e+00, 1.00e+00, 1.32e+05, 9.98e+04, 3.63e+05],\n",
       "       [1.00e+00, 0.00e+00, 0.00e+00, 1.35e+05, 1.47e+05, 1.28e+05],\n",
       "       [1.00e+00, 1.00e+00, 0.00e+00, 1.30e+05, 1.46e+05, 3.24e+05],\n",
       "       [1.00e+00, 0.00e+00, 1.00e+00, 1.21e+05, 1.49e+05, 3.12e+05],\n",
       "       [1.00e+00, 0.00e+00, 0.00e+00, 1.23e+05, 1.09e+05, 3.05e+05],\n",
       "       [1.00e+00, 1.00e+00, 0.00e+00, 1.02e+05, 1.11e+05, 2.29e+05],\n",
       "       [1.00e+00, 0.00e+00, 0.00e+00, 1.01e+05, 9.18e+04, 2.50e+05],\n",
       "       [1.00e+00, 1.00e+00, 0.00e+00, 9.39e+04, 1.27e+05, 2.50e+05],\n",
       "       [1.00e+00, 0.00e+00, 0.00e+00, 9.20e+04, 1.35e+05, 2.53e+05],\n",
       "       [1.00e+00, 1.00e+00, 0.00e+00, 1.20e+05, 1.57e+05, 2.57e+05],\n",
       "       [1.00e+00, 0.00e+00, 1.00e+00, 1.15e+05, 1.23e+05, 2.62e+05],\n",
       "       [1.00e+00, 0.00e+00, 0.00e+00, 7.80e+04, 1.22e+05, 2.64e+05],\n",
       "       [1.00e+00, 0.00e+00, 1.00e+00, 9.47e+04, 1.45e+05, 2.83e+05],\n",
       "       [1.00e+00, 1.00e+00, 0.00e+00, 9.17e+04, 1.14e+05, 2.95e+05],\n",
       "       [1.00e+00, 0.00e+00, 1.00e+00, 8.64e+04, 1.54e+05, 0.00e+00],\n",
       "       [1.00e+00, 0.00e+00, 0.00e+00, 7.63e+04, 1.14e+05, 2.99e+05],\n",
       "       [1.00e+00, 0.00e+00, 1.00e+00, 7.84e+04, 1.54e+05, 3.00e+05],\n",
       "       [1.00e+00, 1.00e+00, 0.00e+00, 7.40e+04, 1.23e+05, 3.03e+05],\n",
       "       [1.00e+00, 1.00e+00, 0.00e+00, 6.75e+04, 1.06e+05, 3.05e+05],\n",
       "       [1.00e+00, 0.00e+00, 1.00e+00, 7.70e+04, 9.93e+04, 1.41e+05],\n",
       "       [1.00e+00, 0.00e+00, 0.00e+00, 6.47e+04, 1.40e+05, 1.38e+05],\n",
       "       [1.00e+00, 1.00e+00, 0.00e+00, 7.53e+04, 1.44e+05, 1.34e+05],\n",
       "       [1.00e+00, 0.00e+00, 1.00e+00, 7.21e+04, 1.28e+05, 3.53e+05],\n",
       "       [1.00e+00, 1.00e+00, 0.00e+00, 6.61e+04, 1.83e+05, 1.18e+05],\n",
       "       [1.00e+00, 0.00e+00, 1.00e+00, 6.56e+04, 1.53e+05, 1.07e+05],\n",
       "       [1.00e+00, 1.00e+00, 0.00e+00, 6.20e+04, 1.16e+05, 9.11e+04],\n",
       "       [1.00e+00, 0.00e+00, 1.00e+00, 6.11e+04, 1.53e+05, 8.82e+04],\n",
       "       [1.00e+00, 0.00e+00, 0.00e+00, 6.34e+04, 1.29e+05, 4.61e+04],\n",
       "       [1.00e+00, 1.00e+00, 0.00e+00, 5.55e+04, 1.03e+05, 2.15e+05],\n",
       "       [1.00e+00, 0.00e+00, 0.00e+00, 4.64e+04, 1.58e+05, 2.11e+05],\n",
       "       [1.00e+00, 0.00e+00, 1.00e+00, 4.60e+04, 8.50e+04, 2.06e+05],\n",
       "       [1.00e+00, 1.00e+00, 0.00e+00, 2.87e+04, 1.27e+05, 2.01e+05],\n",
       "       [1.00e+00, 0.00e+00, 0.00e+00, 4.41e+04, 5.13e+04, 1.97e+05],\n",
       "       [1.00e+00, 0.00e+00, 1.00e+00, 2.02e+04, 6.59e+04, 1.85e+05],\n",
       "       [1.00e+00, 0.00e+00, 0.00e+00, 3.86e+04, 8.30e+04, 1.75e+05],\n",
       "       [1.00e+00, 0.00e+00, 0.00e+00, 2.88e+04, 1.19e+05, 1.73e+05],\n",
       "       [1.00e+00, 1.00e+00, 0.00e+00, 2.79e+04, 8.47e+04, 1.64e+05],\n",
       "       [1.00e+00, 0.00e+00, 0.00e+00, 2.36e+04, 9.62e+04, 1.48e+05],\n",
       "       [1.00e+00, 0.00e+00, 1.00e+00, 1.55e+04, 1.27e+05, 3.55e+04],\n",
       "       [1.00e+00, 0.00e+00, 0.00e+00, 2.22e+04, 1.55e+05, 2.83e+04],\n",
       "       [1.00e+00, 0.00e+00, 1.00e+00, 1.00e+03, 1.24e+05, 1.90e+03],\n",
       "       [1.00e+00, 1.00e+00, 0.00e+00, 1.32e+03, 1.16e+05, 2.97e+05],\n",
       "       [1.00e+00, 0.00e+00, 0.00e+00, 0.00e+00, 1.35e+05, 0.00e+00],\n",
       "       [1.00e+00, 0.00e+00, 1.00e+00, 5.42e+02, 5.17e+04, 0.00e+00],\n",
       "       [1.00e+00, 0.00e+00, 0.00e+00, 0.00e+00, 1.17e+05, 4.52e+04]])"
      ]
     },
     "execution_count": 55,
     "metadata": {},
     "output_type": "execute_result"
    }
   ],
   "source": [
    "X_opt = np.array(X[:, [0, 1, 2, 3, 4, 5]], dtype = float)\n",
    "X_opt"
   ]
  },
  {
   "cell_type": "code",
   "execution_count": 56,
   "id": "1704a3f0-9142-4518-8782-85a7d099ad17",
   "metadata": {},
   "outputs": [
    {
     "data": {
      "text/html": [
       "<table class=\"simpletable\">\n",
       "<caption>OLS Regression Results</caption>\n",
       "<tr>\n",
       "  <th>Dep. Variable:</th>            <td>y</td>        <th>  R-squared:         </th> <td>   0.951</td>\n",
       "</tr>\n",
       "<tr>\n",
       "  <th>Model:</th>                   <td>OLS</td>       <th>  Adj. R-squared:    </th> <td>   0.945</td>\n",
       "</tr>\n",
       "<tr>\n",
       "  <th>Method:</th>             <td>Least Squares</td>  <th>  F-statistic:       </th> <td>   169.9</td>\n",
       "</tr>\n",
       "<tr>\n",
       "  <th>Date:</th>             <td>Tue, 01 Jun 2021</td> <th>  Prob (F-statistic):</th> <td>1.34e-27</td>\n",
       "</tr>\n",
       "<tr>\n",
       "  <th>Time:</th>                 <td>17:22:10</td>     <th>  Log-Likelihood:    </th> <td> -525.38</td>\n",
       "</tr>\n",
       "<tr>\n",
       "  <th>No. Observations:</th>      <td>    50</td>      <th>  AIC:               </th> <td>   1063.</td>\n",
       "</tr>\n",
       "<tr>\n",
       "  <th>Df Residuals:</th>          <td>    44</td>      <th>  BIC:               </th> <td>   1074.</td>\n",
       "</tr>\n",
       "<tr>\n",
       "  <th>Df Model:</th>              <td>     5</td>      <th>                     </th>     <td> </td>   \n",
       "</tr>\n",
       "<tr>\n",
       "  <th>Covariance Type:</th>      <td>nonrobust</td>    <th>                     </th>     <td> </td>   \n",
       "</tr>\n",
       "</table>\n",
       "<table class=\"simpletable\">\n",
       "<tr>\n",
       "    <td></td>       <th>coef</th>     <th>std err</th>      <th>t</th>      <th>P>|t|</th>  <th>[0.025</th>    <th>0.975]</th>  \n",
       "</tr>\n",
       "<tr>\n",
       "  <th>const</th> <td> 5.013e+04</td> <td> 6884.820</td> <td>    7.281</td> <td> 0.000</td> <td> 3.62e+04</td> <td>  6.4e+04</td>\n",
       "</tr>\n",
       "<tr>\n",
       "  <th>x1</th>    <td>  198.7888</td> <td> 3371.007</td> <td>    0.059</td> <td> 0.953</td> <td>-6595.030</td> <td> 6992.607</td>\n",
       "</tr>\n",
       "<tr>\n",
       "  <th>x2</th>    <td>  -41.8870</td> <td> 3256.039</td> <td>   -0.013</td> <td> 0.990</td> <td>-6604.003</td> <td> 6520.229</td>\n",
       "</tr>\n",
       "<tr>\n",
       "  <th>x3</th>    <td>    0.8060</td> <td>    0.046</td> <td>   17.369</td> <td> 0.000</td> <td>    0.712</td> <td>    0.900</td>\n",
       "</tr>\n",
       "<tr>\n",
       "  <th>x4</th>    <td>   -0.0270</td> <td>    0.052</td> <td>   -0.517</td> <td> 0.608</td> <td>   -0.132</td> <td>    0.078</td>\n",
       "</tr>\n",
       "<tr>\n",
       "  <th>x5</th>    <td>    0.0270</td> <td>    0.017</td> <td>    1.574</td> <td> 0.123</td> <td>   -0.008</td> <td>    0.062</td>\n",
       "</tr>\n",
       "</table>\n",
       "<table class=\"simpletable\">\n",
       "<tr>\n",
       "  <th>Omnibus:</th>       <td>14.782</td> <th>  Durbin-Watson:     </th> <td>   1.283</td>\n",
       "</tr>\n",
       "<tr>\n",
       "  <th>Prob(Omnibus):</th> <td> 0.001</td> <th>  Jarque-Bera (JB):  </th> <td>  21.266</td>\n",
       "</tr>\n",
       "<tr>\n",
       "  <th>Skew:</th>          <td>-0.948</td> <th>  Prob(JB):          </th> <td>2.41e-05</td>\n",
       "</tr>\n",
       "<tr>\n",
       "  <th>Kurtosis:</th>      <td> 5.572</td> <th>  Cond. No.          </th> <td>1.45e+06</td>\n",
       "</tr>\n",
       "</table><br/><br/>Notes:<br/>[1] Standard Errors assume that the covariance matrix of the errors is correctly specified.<br/>[2] The condition number is large, 1.45e+06. This might indicate that there are<br/>strong multicollinearity or other numerical problems."
      ],
      "text/plain": [
       "<class 'statsmodels.iolib.summary.Summary'>\n",
       "\"\"\"\n",
       "                            OLS Regression Results                            \n",
       "==============================================================================\n",
       "Dep. Variable:                      y   R-squared:                       0.951\n",
       "Model:                            OLS   Adj. R-squared:                  0.945\n",
       "Method:                 Least Squares   F-statistic:                     169.9\n",
       "Date:                Tue, 01 Jun 2021   Prob (F-statistic):           1.34e-27\n",
       "Time:                        17:22:10   Log-Likelihood:                -525.38\n",
       "No. Observations:                  50   AIC:                             1063.\n",
       "Df Residuals:                      44   BIC:                             1074.\n",
       "Df Model:                           5                                         \n",
       "Covariance Type:            nonrobust                                         \n",
       "==============================================================================\n",
       "                 coef    std err          t      P>|t|      [0.025      0.975]\n",
       "------------------------------------------------------------------------------\n",
       "const       5.013e+04   6884.820      7.281      0.000    3.62e+04     6.4e+04\n",
       "x1           198.7888   3371.007      0.059      0.953   -6595.030    6992.607\n",
       "x2           -41.8870   3256.039     -0.013      0.990   -6604.003    6520.229\n",
       "x3             0.8060      0.046     17.369      0.000       0.712       0.900\n",
       "x4            -0.0270      0.052     -0.517      0.608      -0.132       0.078\n",
       "x5             0.0270      0.017      1.574      0.123      -0.008       0.062\n",
       "==============================================================================\n",
       "Omnibus:                       14.782   Durbin-Watson:                   1.283\n",
       "Prob(Omnibus):                  0.001   Jarque-Bera (JB):               21.266\n",
       "Skew:                          -0.948   Prob(JB):                     2.41e-05\n",
       "Kurtosis:                       5.572   Cond. No.                     1.45e+06\n",
       "==============================================================================\n",
       "\n",
       "Notes:\n",
       "[1] Standard Errors assume that the covariance matrix of the errors is correctly specified.\n",
       "[2] The condition number is large, 1.45e+06. This might indicate that there are\n",
       "strong multicollinearity or other numerical problems.\n",
       "\"\"\""
      ]
     },
     "execution_count": 56,
     "metadata": {},
     "output_type": "execute_result"
    }
   ],
   "source": [
    "# the variable whose P_value is greater of all and is more then significance level 0.05 is deleted as it means it has less significance on the column\n",
    "\n",
    "model = sm.OLS(endog = y, exog = X_opt)\n",
    "regressor_OLS = model.fit()\n",
    "regressor_OLS.summary()"
   ]
  },
  {
   "cell_type": "markdown",
   "id": "011d4b22-ed37-4c0b-ad49-f254a5d4bad7",
   "metadata": {},
   "source": [
    "#### Explain\n",
    "R_squared -  it tell about the goodness of the fit, ranges between 0 and 1(the better it is). \n",
    "\n",
    "Adj. R_squared - this parameter has a penalising factor and it always decreases or stays identical to the previous value as the number of independent variables increases. If its value keeps increasing on removing the unnecessary parameters go ahead with the model or stop and revert.\n",
    "\n",
    "F statistic - it is used to compare two variances and is always greater than 0. It is formulated as v12/v22. In regression, it is the ratio of the explained to the unexplained variance of the model. AIC and BIC – AIC stands for Akaike’s information criterion and BIC stands for Bayesian information criterion Both these parameters depend on the likelihood function L. \n",
    "\n",
    "Skew - informs about the data symmetry about the mean\n",
    "\n",
    "Kurtosis - it measures the shape of the distribution i.e.the amount of data close to the mean than far away from the mean.\n",
    "\n",
    "Omnibus - D’Angostino’s test. It provides a combined statistical test for the presence of skewness and kurtosis.\n",
    "\n",
    "Log-likelihood it is the log of the likehood function"
   ]
  },
  {
   "cell_type": "code",
   "execution_count": 61,
   "id": "4dc2ee1e-b742-49f0-9ef7-c68ba1126ed6",
   "metadata": {},
   "outputs": [
    {
     "data": {
      "text/html": [
       "<table class=\"simpletable\">\n",
       "<caption>OLS Regression Results</caption>\n",
       "<tr>\n",
       "  <th>Dep. Variable:</th>            <td>y</td>        <th>  R-squared:         </th> <td>   0.950</td>\n",
       "</tr>\n",
       "<tr>\n",
       "  <th>Model:</th>                   <td>OLS</td>       <th>  Adj. R-squared:    </th> <td>   0.948</td>\n",
       "</tr>\n",
       "<tr>\n",
       "  <th>Method:</th>             <td>Least Squares</td>  <th>  F-statistic:       </th> <td>   450.8</td>\n",
       "</tr>\n",
       "<tr>\n",
       "  <th>Date:</th>             <td>Tue, 01 Jun 2021</td> <th>  Prob (F-statistic):</th> <td>2.16e-31</td>\n",
       "</tr>\n",
       "<tr>\n",
       "  <th>Time:</th>                 <td>18:55:40</td>     <th>  Log-Likelihood:    </th> <td> -525.54</td>\n",
       "</tr>\n",
       "<tr>\n",
       "  <th>No. Observations:</th>      <td>    50</td>      <th>  AIC:               </th> <td>   1057.</td>\n",
       "</tr>\n",
       "<tr>\n",
       "  <th>Df Residuals:</th>          <td>    47</td>      <th>  BIC:               </th> <td>   1063.</td>\n",
       "</tr>\n",
       "<tr>\n",
       "  <th>Df Model:</th>              <td>     2</td>      <th>                     </th>     <td> </td>   \n",
       "</tr>\n",
       "<tr>\n",
       "  <th>Covariance Type:</th>      <td>nonrobust</td>    <th>                     </th>     <td> </td>   \n",
       "</tr>\n",
       "</table>\n",
       "<table class=\"simpletable\">\n",
       "<tr>\n",
       "    <td></td>       <th>coef</th>     <th>std err</th>      <th>t</th>      <th>P>|t|</th>  <th>[0.025</th>    <th>0.975]</th>  \n",
       "</tr>\n",
       "<tr>\n",
       "  <th>const</th> <td> 4.698e+04</td> <td> 2689.933</td> <td>   17.464</td> <td> 0.000</td> <td> 4.16e+04</td> <td> 5.24e+04</td>\n",
       "</tr>\n",
       "<tr>\n",
       "  <th>x1</th>    <td>    0.7966</td> <td>    0.041</td> <td>   19.266</td> <td> 0.000</td> <td>    0.713</td> <td>    0.880</td>\n",
       "</tr>\n",
       "<tr>\n",
       "  <th>x2</th>    <td>    0.0299</td> <td>    0.016</td> <td>    1.927</td> <td> 0.060</td> <td>   -0.001</td> <td>    0.061</td>\n",
       "</tr>\n",
       "</table>\n",
       "<table class=\"simpletable\">\n",
       "<tr>\n",
       "  <th>Omnibus:</th>       <td>14.677</td> <th>  Durbin-Watson:     </th> <td>   1.257</td>\n",
       "</tr>\n",
       "<tr>\n",
       "  <th>Prob(Omnibus):</th> <td> 0.001</td> <th>  Jarque-Bera (JB):  </th> <td>  21.161</td>\n",
       "</tr>\n",
       "<tr>\n",
       "  <th>Skew:</th>          <td>-0.939</td> <th>  Prob(JB):          </th> <td>2.54e-05</td>\n",
       "</tr>\n",
       "<tr>\n",
       "  <th>Kurtosis:</th>      <td> 5.575</td> <th>  Cond. No.          </th> <td>5.32e+05</td>\n",
       "</tr>\n",
       "</table><br/><br/>Notes:<br/>[1] Standard Errors assume that the covariance matrix of the errors is correctly specified.<br/>[2] The condition number is large, 5.32e+05. This might indicate that there are<br/>strong multicollinearity or other numerical problems."
      ],
      "text/plain": [
       "<class 'statsmodels.iolib.summary.Summary'>\n",
       "\"\"\"\n",
       "                            OLS Regression Results                            \n",
       "==============================================================================\n",
       "Dep. Variable:                      y   R-squared:                       0.950\n",
       "Model:                            OLS   Adj. R-squared:                  0.948\n",
       "Method:                 Least Squares   F-statistic:                     450.8\n",
       "Date:                Tue, 01 Jun 2021   Prob (F-statistic):           2.16e-31\n",
       "Time:                        18:55:40   Log-Likelihood:                -525.54\n",
       "No. Observations:                  50   AIC:                             1057.\n",
       "Df Residuals:                      47   BIC:                             1063.\n",
       "Df Model:                           2                                         \n",
       "Covariance Type:            nonrobust                                         \n",
       "==============================================================================\n",
       "                 coef    std err          t      P>|t|      [0.025      0.975]\n",
       "------------------------------------------------------------------------------\n",
       "const       4.698e+04   2689.933     17.464      0.000    4.16e+04    5.24e+04\n",
       "x1             0.7966      0.041     19.266      0.000       0.713       0.880\n",
       "x2             0.0299      0.016      1.927      0.060      -0.001       0.061\n",
       "==============================================================================\n",
       "Omnibus:                       14.677   Durbin-Watson:                   1.257\n",
       "Prob(Omnibus):                  0.001   Jarque-Bera (JB):               21.161\n",
       "Skew:                          -0.939   Prob(JB):                     2.54e-05\n",
       "Kurtosis:                       5.575   Cond. No.                     5.32e+05\n",
       "==============================================================================\n",
       "\n",
       "Notes:\n",
       "[1] Standard Errors assume that the covariance matrix of the errors is correctly specified.\n",
       "[2] The condition number is large, 5.32e+05. This might indicate that there are\n",
       "strong multicollinearity or other numerical problems.\n",
       "\"\"\""
      ]
     },
     "execution_count": 61,
     "metadata": {},
     "output_type": "execute_result"
    }
   ],
   "source": [
    "X_opt = np.array(X[:, [0, 3, 5]], dtype= float)\n",
    "regressor_OLS = sm.OLS(endog=y, exog=X_opt).fit()\n",
    "regressor_OLS.summary()"
   ]
  },
  {
   "cell_type": "code",
   "execution_count": 75,
   "id": "22a28fd8-e377-4865-a30d-2c459de0ebad",
   "metadata": {},
   "outputs": [
    {
     "name": "stdout",
     "output_type": "stream",
     "text": [
      "[182024.02]\n"
     ]
    }
   ],
   "source": [
    "#making a single prediction (for example RD_Spend = 160000, Adm Spend = 130000, Marketing Spend = 300000 and State = 'Colifornia')\n",
    "print(regr.predict([[0, 0, 160000, 130000, 300000]]))"
   ]
  },
  {
   "cell_type": "code",
   "execution_count": 81,
   "id": "42443bf3-a102-4db0-81ac-ce3de98a2ea3",
   "metadata": {},
   "outputs": [
    {
     "name": "stdout",
     "output_type": "stream",
     "text": [
      "[-5.22e+02  1.12e+01  7.81e-01  4.58e-02  3.35e-02]\n",
      "41049.23809436479\n"
     ]
    }
   ],
   "source": [
    "print(regr.coef_ )\n",
    "print(regr.intercept_ )"
   ]
  },
  {
   "cell_type": "markdown",
   "id": "55496188-aa88-4bf2-8617-e097e51117dc",
   "metadata": {},
   "source": [
    "The equation of the multiple linear regression model is\n",
    "\n",
    "Profit = 86.6 * DummyState_1 - 873 * DummyState_2 + 786 * DummyState_3 - 0.773 * RD_Spend + 0,0329 * Administretion + 0.0366 * MArketing Spend + 42467.53\n",
    "\n",
    "\n",
    "Note: to get these coefficients - called the coef and intercept atributes from our regressor object"
   ]
  }
 ],
 "metadata": {
  "kernelspec": {
   "display_name": "Python 3",
   "language": "python",
   "name": "python3"
  },
  "language_info": {
   "codemirror_mode": {
    "name": "ipython",
    "version": 3
   },
   "file_extension": ".py",
   "mimetype": "text/x-python",
   "name": "python",
   "nbconvert_exporter": "python",
   "pygments_lexer": "ipython3",
   "version": "3.8.10"
  }
 },
 "nbformat": 4,
 "nbformat_minor": 5
}
