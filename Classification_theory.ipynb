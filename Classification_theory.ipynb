{
 "cells": [
  {
   "cell_type": "markdown",
   "id": "b8142045-e4d7-4a07-8bef-f2ad2f1dbe59",
   "metadata": {},
   "source": [
    "### Classification\n",
    "the act or process of classifying.\n",
    "\n",
    "#### Algorithms:\n",
    "    - Logistic Regression \n",
    "    - K-Nearest Neighbors \n",
    "    - Naive Bayes\n",
    "    - Support Vector Machine SVM\n",
    "    - Decision Tree Classifier\n",
    "    - Random Forest Classifier\n",
    "    - Gradient Boosting"
   ]
  },
  {
   "cell_type": "markdown",
   "id": "21cdb5fc-0d03-4408-bc55-e18bfa0054ed",
   "metadata": {},
   "source": [
    "### Types of Classification\n",
    "\n",
    "- Binary Classification\n",
    "        Exampel is classifying email as 'spam'or 'not spam'. The class for the normal state is assigned the class label 0 (False) and the class with the abnormal state is assigmed the class label 1 (True). Class = 2 is target (spam or not spam). Labels is 0 or 1 (label-encoding).\n",
    "        Ml algorithms: LogR*, SVM*, k-Nearest Neighbors, Naive Bayes, Decision trees. \n",
    "- Multi-Class Classification\n",
    "        Exampel is classifying fruts species classification. Class are more. Label is one in each class.\n",
    "        ML algorithms: k-Nearest Neighbors, Decision Trees, Naive Bayes, Random Forest, Gradient Boosting.\n",
    "        LogR and Support Vector Machine that can use for multi-class classification problems. \n",
    "            One-vs-Rest: Fit one binary classification model for each class vs all other classes.\n",
    "            One-vs-One: Fit one binairy classification model for each pair of classes.\n",
    "- Multi-Label Classification\n",
    "        Have two or more class labels, where one or more class labels may be predicted for each example. !!This is unlike binary and multi-class classification!!\n",
    "        Ml algoritms: Multi-label Decision Tree, Multi-label Random Forest, Multi-label Gradient Boosting \n",
    "- Imbalanced Classification\n",
    "        Tasks where the number of exampeles in each class is unequally distributed(imbalance)\n",
    "        Ml algorithms: Cost-sensitive LogR, Cost-sensitive Decision Tree, Cost-sensitiveSupport Vector Machine\n",
    "        Metrica: Precision, recall, F-measure\n",
    "        Solution: Random Undersampling, SMOTE.."
   ]
  },
  {
   "cell_type": "code",
   "execution_count": 34,
   "id": "28eb538d-e15c-4224-837a-e960bccda8d6",
   "metadata": {},
   "outputs": [],
   "source": [
    "# Example of classification task\n",
    "from numpy import where\n",
    "from collections import Counter\n",
    "from sklearn.datasets import make_blobs\n",
    "from matplotlib import pyplot\n",
    "#Exampel of a multi-label classification task\n",
    "from sklearn.datasets import make_multilabel_classification"
   ]
  },
  {
   "cell_type": "markdown",
   "id": "f70353fc-ec8e-4163-bd01-55e51fab5a37",
   "metadata": {},
   "source": [
    "### Binary Classification\n",
    "The example below generates a dataset with 1000 exampeles the belong to one of two classes, each with two input features."
   ]
  },
  {
   "cell_type": "code",
   "execution_count": 35,
   "id": "b9665036-3cc0-4961-a8ee-b893d1ac1626",
   "metadata": {},
   "outputs": [
    {
     "name": "stdout",
     "output_type": "stream",
     "text": [
      "(1000, 2) (1000,)\n",
      "Counter({0: 500, 1: 500})\n",
      "[-3.05837272  4.48825769] 0\n",
      "[-8.60973869 -3.72714879] 1\n",
      "[1.37129721 5.23107449] 0\n",
      "[-9.33917563 -2.9544469 ] 1\n",
      "[-11.57178593  -3.85275513] 1\n",
      "[-11.42257341  -4.85679127] 1\n",
      "[-10.44518578  -3.76476563] 1\n",
      "[-10.44603561  -3.26065964] 1\n",
      "[-0.61947075  3.48804983] 0\n",
      "[-10.91115591  -4.5772537 ] 1\n"
     ]
    },
    {
     "data": {
      "image/png": "[encoded data removed]",
      "text/plain": [
       "<Figure size 432x288 with 1 Axes>"
      ]
     },
     "metadata": {
      "needs_background": "light"
     },
     "output_type": "display_data"
    }
   ],
   "source": [
    "# define dataset\n",
    "X, y = make_blobs(n_samples=1000, centers=2, random_state=1)\n",
    "\n",
    "# summarize dataset shape/the created dataset  showing thw exampels \n",
    "#divided into input and output elemens\n",
    "print(X.shape, y.shape)\n",
    "\n",
    "# summarize observations by class label/ showing that belong to either class 0\n",
    "# or class 1 and that there are 500 exampels in each class.\n",
    "counter = Counter(y)\n",
    "print(counter)\n",
    "\n",
    "# summarize first few examples/showing the input values (numeric and target)\n",
    "#that represent the classs membership\n",
    "for i in range(10):\n",
    "    print(X[i], y[i])\n",
    "    \n",
    "# plot the dataset and color the by class label/ \n",
    "for label, _ in counter.items():\n",
    "    row_ix = where(y == label)[0]\n",
    "    pyplot.scatter(X[row_ix, 0], X[row_ix, 1], label=str(label))\n",
    "pyplot.legend()\n",
    "pyplot.show()"
   ]
  },
  {
   "cell_type": "markdown",
   "id": "16b2501a-db97-4aba-9d97-768647f7633c",
   "metadata": {},
   "source": [
    "### Multi-class Classification\n",
    "the exampel below generates a dataset with 1000 exampels that belong to one of three classes, each with two input features."
   ]
  },
  {
   "cell_type": "code",
   "execution_count": 36,
   "id": "098a31b9-f049-4b15-b386-a074c8e1a3f4",
   "metadata": {},
   "outputs": [
    {
     "name": "stdout",
     "output_type": "stream",
     "text": [
      "(1000, 2) (1000,)\n",
      "<class 'collections.Counter'>\n",
      "[-3.05837272  4.48825769] 0\n",
      "[-8.60973869 -3.72714879] 1\n",
      "[1.37129721 5.23107449] 0\n",
      "[-9.33917563 -2.9544469 ] 1\n",
      "[-8.63895561 -8.05263469] 2\n",
      "[-8.48974309 -9.05667083] 2\n",
      "[-7.51235546 -7.96464519] 2\n",
      "[-7.51320529 -7.46053919] 2\n",
      "[-0.61947075  3.48804983] 0\n",
      "[-10.91115591  -4.5772537 ] 1\n"
     ]
    },
    {
     "data": {
      "image/png": "[encoded data removed]",
      "text/plain": [
       "<Figure size 432x288 with 1 Axes>"
      ]
     },
     "metadata": {
      "needs_background": "light"
     },
     "output_type": "display_data"
    }
   ],
   "source": [
    "#define dataset\n",
    "X,y = make_blobs(n_samples=1000, centers=3, random_state=1)\n",
    "\n",
    "#summarize dataset shape\n",
    "print(X.shape, y.shape)\n",
    "#summarize observations by class label,showing that instances belong\n",
    "#to class 0, 1, 2 and there are approximately 333 exampels in each class\n",
    "counter = Counter(y)\n",
    "print(Counter)\n",
    "\n",
    "#summarize firest few exampels\n",
    "for i in range(10):\n",
    "    print(X[i], y[i])\n",
    "\n",
    "#plot the dataset\n",
    "for label, _ in counter.items():\n",
    "    row_ix = where(y == label)[0]\n",
    "    pyplot.scatter(X[row_ix, 0], X[row_ix, 1], label=str(label))\n",
    "pyplot.legend()\n",
    "pyplot.show()"
   ]
  },
  {
   "cell_type": "markdown",
   "id": "4456fcd3-a661-44e7-9570-c933c14af3c0",
   "metadata": {},
   "source": [
    "### Multi-label Classification\n",
    "the exampel below generates a dataset with 1000 exampels, each with two input features. There are three classes, each of which may take on one of two labels (0 or 1) "
   ]
  },
  {
   "cell_type": "code",
   "execution_count": 42,
   "id": "42699233-aa48-427f-a09f-a0b99c6646ea",
   "metadata": {},
   "outputs": [
    {
     "name": "stdout",
     "output_type": "stream",
     "text": [
      "(1000, 2) (1000, 3)\n",
      "[18. 35.] [1 1 1]\n",
      "[22. 33.] [1 1 1]\n",
      "[26. 36.] [1 1 1]\n",
      "[24. 28.] [1 1 0]\n",
      "[23. 27.] [1 1 0]\n"
     ]
    }
   ],
   "source": [
    "#define dataset\n",
    "X, y = make_multilabel_classification(n_samples=1000, n_features=2, n_classes=3, n_labels=2, random_state=1)\n",
    "\n",
    "#summarize dataset shape\n",
    "print(X.shape, y.shape)\n",
    "\n",
    "#summarize first few exampels\n",
    "for i in range(5):\n",
    "    print(X[i], y[i])"
   ]
  },
  {
   "cell_type": "markdown",
   "id": "c55bf78a-d9e7-4fda-86e5-67ab84a4efd5",
   "metadata": {},
   "source": [
    "### Imbalanced Classification\n",
    "\n"
   ]
  },
  {
   "cell_type": "code",
   "execution_count": null,
   "id": "7bb34ed2-751c-4176-a52b-da65242b75bb",
   "metadata": {},
   "outputs": [],
   "source": []
  }
 ],
 "metadata": {
  "kernelspec": {
   "display_name": "Python 3",
   "language": "python",
   "name": "python3"
  },
  "language_info": {
   "codemirror_mode": {
    "name": "ipython",
    "version": 3
   },
   "file_extension": ".py",
   "mimetype": "text/x-python",
   "name": "python",
   "nbconvert_exporter": "python",
   "pygments_lexer": "ipython3",
   "version": "3.8.10"
  }
 },
 "nbformat": 4,
 "nbformat_minor": 5
}
